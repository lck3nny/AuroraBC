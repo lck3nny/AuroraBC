{
 "cells": [
  {
   "cell_type": "markdown",
   "id": "229a0015",
   "metadata": {},
   "source": [
    "# Scraper\n",
    "-----\n",
    "- Extracts data from weather balloon readings\n",
    "- Transforms data into standard format\n",
    "- Displays data on easily understandable graphs\n",
    "---"
   ]
  },
  {
   "cell_type": "code",
   "execution_count": 90,
   "id": "6a4ea606",
   "metadata": {},
   "outputs": [],
   "source": [
    "import requests\n",
    "import pandas as pd\n",
    "from datetime import date, datetime, timedelta\n",
    "from bs4 import BeautifulSoup\n",
    "import numpy as np\n",
    "from math import floor\n",
    "from pathlib import Path  \n",
    "from alive_progress import alive_bar\n",
    "import ipywidgets as widgets\n",
    "import matplotlib.pyplot as plt\n",
    "import matplotlib.cm as cm\n",
    "import matplotlib.colors as colors\n",
    "import seaborn as sns\n",
    "from windrose import WindroseAxes\n",
    "from PIL import Image\n",
    "\n",
    "now = [datetime.now().year, datetime.now().month, datetime.now().day]"
   ]
  },
  {
   "cell_type": "markdown",
   "id": "01457bc0",
   "metadata": {},
   "source": [
    "## Define baseline params\n",
    "---\n",
    "- URL to be used\n",
    "- Columns to be extracted\n",
    "- Weather stations to examine\n",
    "- Current date/time\n",
    "---"
   ]
  },
  {
   "cell_type": "code",
   "execution_count": 91,
   "id": "b719c5ed",
   "metadata": {},
   "outputs": [],
   "source": [
    "# Function to truncate a colormap\n",
    "# Can be used to remove white / black bookended values\n",
    "def truncate_colormap(cmap, minval=0.0, maxval=1.0, n=100):\n",
    "    new_cmap = colors.LinearSegmentedColormap.from_list(\n",
    "        'trunc({n},{a:.2f},{b:.2f})'.format(n=cmap.name, a=minval, b=maxval),\n",
    "        cmap(np.linspace(minval, maxval, n)))\n",
    "    return new_cmap"
   ]
  },
  {
   "cell_type": "markdown",
   "id": "b81f4625",
   "metadata": {},
   "source": [
    "#### Scraper Details"
   ]
  },
  {
   "cell_type": "code",
   "execution_count": 92,
   "id": "e12772b5",
   "metadata": {},
   "outputs": [],
   "source": [
    "scraper_details = {\n",
    "  'base_url': \"http://weather.uwyo.edu/cgi-bin/sounding?region=naconf&TYPE=TEXT%3ALIST\",\n",
    "  'cols': [\"Date\", \"Station\", \"Pressure\", \"Height\", \"Temp\", \"DewPoint\", \"Relative_Humidity\", \"Mean_Mixed_Layer\", \"Wind_Direction\", \"Wind_Speed\", \"Potential_Temp\", \"Equivalent_Potential_Temp\", \"Virtual_Potential_Temp\"]\n",
    "}"
   ]
  },
  {
   "cell_type": "markdown",
   "id": "9465933c",
   "metadata": {},
   "source": [
    "#### Graph details"
   ]
  },
  {
   "cell_type": "code",
   "execution_count": 93,
   "id": "4f815247",
   "metadata": {},
   "outputs": [],
   "source": [
    "graph_details ={\n",
    "  'temperature': {\n",
    "    'palette': [sns.color_palette(\"Paired\", n_colors=6)[idx] for idx in [1, 0, 3, 2, 5, 4]],\n",
    "    'ranges': [timedelta(hours=-1), timedelta(hours=-24), timedelta(days=-3), timedelta(days=-7), timedelta(days=-30), timedelta(days=-90), timedelta(days=-180)],\n",
    "  },\n",
    "  'wind': {\n",
    "    'palette': truncate_colormap(cm.viridis_r, minval=0, maxval=0.9),\n",
    "    'ranges': [timedelta(hours=-12), timedelta(hours=-24), timedelta(days=-3), timedelta(days=-7)]\n",
    "  }\n",
    "}"
   ]
  },
  {
   "cell_type": "markdown",
   "id": "3f9ea7a1",
   "metadata": {},
   "source": [
    "#### Balloon locations"
   ]
  },
  {
   "cell_type": "code",
   "execution_count": 94,
   "id": "9f735e03",
   "metadata": {},
   "outputs": [],
   "source": [
    "locations = [\n",
    "  {'id': 72797, 'name': 'Quillayute', 'temp_palette': graph_details['temperature']['palette'][0:2]},\n",
    "  {'id': 73033, 'name': 'Vernon', 'temp_palette': graph_details['temperature']['palette'][2:4]},\n",
    "  {'id': 71109, 'name': 'Port Hardy', 'temp_palette': graph_details['temperature']['palette'][4:6]}\n",
    "]"
   ]
  },
  {
   "cell_type": "markdown",
   "id": "007d59de",
   "metadata": {},
   "source": [
    "## Generate URLs to be scraped\n",
    "---"
   ]
  },
  {
   "cell_type": "code",
   "execution_count": 47,
   "id": "47ad4c4e",
   "metadata": {},
   "outputs": [
    {
     "name": "stdout",
     "output_type": "stream",
     "text": [
      "http://weather.uwyo.edu/cgi-bin/sounding?region=naconf&TYPE=TEXT%3ALIST&YEAR=2023&MONTH=6&FROM=0600&TO=0623&STNM=72797&REPLOT=1\n",
      "http://weather.uwyo.edu/cgi-bin/sounding?region=naconf&TYPE=TEXT%3ALIST&YEAR=2023&MONTH=6&FROM=0600&TO=0623&STNM=73033&REPLOT=1\n",
      "http://weather.uwyo.edu/cgi-bin/sounding?region=naconf&TYPE=TEXT%3ALIST&YEAR=2023&MONTH=6&FROM=0600&TO=0623&STNM=71109&REPLOT=1\n"
     ]
    }
   ],
   "source": [
    "urls = []\n",
    "for location in locations:\n",
    "    location['url'] = '{}&YEAR={}&MONTH={}&FROM={:0>2d}00&TO={:0>2d}23&STNM={}&REPLOT=1'.format(scraper_details['base_url'], datetime.now().year, datetime.now().month, datetime.now().day, datetime.now().day, location['id'])\n",
    "    #urls.append('{}&YEAR={}&MONTH={}&FROM={:0>2d}00&TO={:0>2d}23&STNM={}&REPLOT=1'.format(scraper_details['base_url'], datetime.now().year, datetime.now().month, datetime.now().day, datetime.now().day, location['id']))\n",
    "\n",
    "for location in locations:\n",
    "    print(location['url'])\n",
    "    "
   ]
  },
  {
   "cell_type": "markdown",
   "id": "be3eeea0",
   "metadata": {},
   "source": [
    "## Scrape relevant data from each URL"
   ]
  },
  {
   "cell_type": "code",
   "execution_count": 84,
   "id": "8374f210",
   "metadata": {},
   "outputs": [],
   "source": [
    "for location in locations:\n",
    "    search = 0\n",
    "    data = []\n",
    "    while search >= 0:\n",
    "        # scrape site data\n",
    "        # ~~~~~~~~~~~~~~~~\n",
    "        search += 1\n",
    "        page = requests.get(location['url'])\n",
    "        soup = BeautifulSoup(page.content, \"html.parser\")\n",
    "        results = str(soup.find('pre'))\n",
    "        sevhundy = results[results.find(\"700.0\"):].split()[:11]\n",
    "        eightfiddy = results[results.find(\"850.0\"):].split()[:11]\n",
    "\n",
    "        # catch erroneous reads\n",
    "        # site can hit too many requests\n",
    "        # ~~~~~~~~~~~~~~~~~~~~~~~~~~~~~~\n",
    "        if 'e' not in sevhundy[0] and 'e' not in eightfiddy[0]:\n",
    "            search = -1\n",
    "        elif search == 10:\n",
    "            print(url)\n",
    "            problem_urls.append(url)\n",
    "            search = -1\n",
    "            \n",
    "    # we want 700 first // 850 second\n",
    "    # ~~~~~~~~~~~~~~~~~~~~~~~~~~~~~~~\n",
    "    data.append(sevhundy)\n",
    "    data[-1].insert(0, '%02d-%02d-%02d' % (now[0], now[1], now[2]))\n",
    "    data[-1].insert(1, location['name'])\n",
    "\n",
    "    data.append(eightfiddy)\n",
    "    data[-1].insert(0, '%02d-%02d-%02d' % (now[0], now[1], now[2]))\n",
    "    data[-1].insert(1, location['name'])\n",
    "        \n",
    "    location['data'] = data"
   ]
  },
  {
   "cell_type": "code",
   "execution_count": 85,
   "id": "f0a48d84",
   "metadata": {},
   "outputs": [
    {
     "name": "stdout",
     "output_type": "stream",
     "text": [
      "[['2023-06-06', 'Quillayute', '700.0', '3125', '2.8', '-22.2', '14', '0.93', '305', '15', '305.6', '308.7', '305.7'], ['2023-06-06', 'Quillayute', '850.0', '1537', '10.0', '-17.0', '13', '1.19', '15', '15', '296.6', '300.5', '296.8']]\n",
      "[['2023-06-06', 'Vernon', '700.0', '3121', '0.0', '-23.0', '16', '0.86', '275', '12', '302.4', '305.4', '302.6'], ['2023-06-06', 'Vernon', '850.0', '1544', '10.8', '-4.2', '35', '3.31', '15', '5', '297.4', '307.6', '298.0']]\n",
      "[['2023-06-06', 'Port Hardy', '700.0', '3115', '1.0', '-42.0', '2', '0.14', '295', '9', '303.6', '304.1', '303.6'], ['2023-06-06', 'Port Hardy', '850.0', '1529', '9.8', '-14.2', '17', '1.51', '350', '9', '296.4', '301.2', '296.7']]\n"
     ]
    }
   ],
   "source": [
    "for location in locations:\n",
    "    print(location['data'])"
   ]
  },
  {
   "cell_type": "code",
   "execution_count": 87,
   "id": "0df99c5e",
   "metadata": {},
   "outputs": [
    {
     "name": "stdout",
     "output_type": "stream",
     "text": [
      "['2023-06-06', 'Quillayute', '700.0', '3125', '2.8', '-22.2', '14', '0.93', '305', '15', '305.6', '308.7', '305.7']\n",
      "['2023-06-06', 'Quillayute', '850.0', '1537', '10.0', '-17.0', '13', '1.19', '15', '15', '296.6', '300.5', '296.8']\n",
      "['2023-06-06', 'Vernon', '700.0', '3121', '0.0', '-23.0', '16', '0.86', '275', '12', '302.4', '305.4', '302.6']\n",
      "['2023-06-06', 'Vernon', '850.0', '1544', '10.8', '-4.2', '35', '3.31', '15', '5', '297.4', '307.6', '298.0']\n",
      "['2023-06-06', 'Port Hardy', '700.0', '3115', '1.0', '-42.0', '2', '0.14', '295', '9', '303.6', '304.1', '303.6']\n",
      "['2023-06-06', 'Port Hardy', '850.0', '1529', '9.8', '-14.2', '17', '1.51', '350', '9', '296.4', '301.2', '296.7']\n"
     ]
    }
   ],
   "source": [
    "# Remove rogue \"e\" values from pressure field\n",
    "# ~~~~~~~~~~~~~~~~~~~~~~~~~~~~~~~~~~~~~~~~~~~\n",
    "pressures = [700, 850]\n",
    "ctr = 0\n",
    "all_new_data = []\n",
    "for location in locations:\n",
    "    for row in location['data']:\n",
    "        try:\n",
    "            if(not int(float(row[2])) in pressures):\n",
    "                row[2] = pressures[ctr%2]\n",
    "        except Exception as e:\n",
    "            print(e)\n",
    "            \n",
    "        ctr += 1\n",
    "        all_new_data.append(row)\n",
    "        print(row)"
   ]
  },
  {
   "cell_type": "markdown",
   "id": "b73a2888",
   "metadata": {},
   "source": [
    "## Convert to Pandas DataFrame"
   ]
  },
  {
   "cell_type": "code",
   "execution_count": 89,
   "id": "b9fc761d",
   "metadata": {},
   "outputs": [
    {
     "ename": "NameError",
     "evalue": "name 'cols' is not defined",
     "output_type": "error",
     "traceback": [
      "\u001b[0;31m---------------------------------------------------------------------------\u001b[0m",
      "\u001b[0;31mNameError\u001b[0m                                 Traceback (most recent call last)",
      "Cell \u001b[0;32mIn[89], line 1\u001b[0m\n\u001b[0;32m----> 1\u001b[0m df \u001b[38;5;241m=\u001b[39m pd\u001b[38;5;241m.\u001b[39mDataFrame(all_new_data, columns\u001b[38;5;241m=\u001b[39m\u001b[43mcols\u001b[49m)\n\u001b[1;32m      3\u001b[0m \u001b[38;5;66;03m# Convert DataFrame to numeric values\u001b[39;00m\n\u001b[1;32m      4\u001b[0m \u001b[38;5;66;03m# ~~~~~~~~~~~~~~~~~~~~~~~~~~~~~~~~~~~\u001b[39;00m\n\u001b[1;32m      5\u001b[0m \u001b[38;5;28;01mfor\u001b[39;00m col \u001b[38;5;129;01min\u001b[39;00m cols[\u001b[38;5;241m2\u001b[39m:]:\n",
      "\u001b[0;31mNameError\u001b[0m: name 'cols' is not defined"
     ]
    }
   ],
   "source": [
    "df = pd.DataFrame(all_new_data, columns=cols)\n",
    "\n",
    "# Convert DataFrame to numeric values\n",
    "# ~~~~~~~~~~~~~~~~~~~~~~~~~~~~~~~~~~~\n",
    "for col in cols[2:]:\n",
    "    try:\n",
    "        df[col] = pd.to_numeric(df[col])\n",
    "    except:\n",
    "        print(col)\n",
    "    \n",
    "# Convert wind speed from Knots to KM/H\n",
    "# ~~~~~~~~~~~~~~~~~~~~~~~~~~~~~~~~~~~~~\n",
    "df['Wind_Speed'] = df['Wind_Speed'].multiply(1.852)\n",
    "df.head(20)"
   ]
  },
  {
   "cell_type": "markdown",
   "id": "b341f2c4",
   "metadata": {},
   "source": [
    "## Read season data\n",
    "---"
   ]
  },
  {
   "cell_type": "code",
   "execution_count": null,
   "id": "e45abe67",
   "metadata": {},
   "outputs": [],
   "source": [
    "if datetime.now().month < 8 :\n",
    "    this_season = '{}-{}'.format(datetime.now().year -1, datetime.now().year)\n",
    "else:\n",
    "    this_season = '{}-{}'.format(datetime.now().year, datetime.now().year + 1)\n",
    "    \n",
    "data_path = './data/balloon-data-{}.csv'.format(this_season)\n",
    "\n",
    "if os.path.exists(data_path):\n",
    "    season_data = pd.read_csv(data_path)"
   ]
  },
  {
   "cell_type": "code",
   "execution_count": null,
   "id": "c845fcac",
   "metadata": {},
   "outputs": [],
   "source": []
  }
 ],
 "metadata": {
  "kernelspec": {
   "display_name": "Python 3 (ipykernel)",
   "language": "python",
   "name": "python3"
  },
  "language_info": {
   "codemirror_mode": {
    "name": "ipython",
    "version": 3
   },
   "file_extension": ".py",
   "mimetype": "text/x-python",
   "name": "python",
   "nbconvert_exporter": "python",
   "pygments_lexer": "ipython3",
   "version": "3.11.2"
  }
 },
 "nbformat": 4,
 "nbformat_minor": 5
}
