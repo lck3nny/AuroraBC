{
 "cells": [
  {
   "cell_type": "code",
   "execution_count": 9,
   "id": "fcc555a9",
   "metadata": {},
   "outputs": [],
   "source": [
    "import requests\n",
    "import pandas as pd\n",
    "from datetime import date, datetime, timedelta\n",
    "from bs4 import BeautifulSoup\n",
    "import numpy as np\n",
    "from math import floor"
   ]
  },
  {
   "cell_type": "markdown",
   "id": "01457bc0",
   "metadata": {},
   "source": [
    "Wind speed in Knots converted to KM/H (*1.852)\n",
    "3 day loop\n",
    "\n",
    "1) Port Hardy \n",
    "2) Quillayute "
   ]
  },
  {
   "cell_type": "code",
   "execution_count": 10,
   "id": "6a4526f6",
   "metadata": {},
   "outputs": [],
   "source": [
    "# Creates date range from str format dates\n",
    "# e.g. \"2021-01-01\"\n",
    "def daterange(start_date, end_date):\n",
    "    for n in range(int((end_date - start_date).days)):\n",
    "        yield start_date + timedelta(n)"
   ]
  },
  {
   "cell_type": "code",
   "execution_count": 26,
   "id": "a8b91191",
   "metadata": {},
   "outputs": [
    {
     "name": "stdout",
     "output_type": "stream",
     "text": [
      "Dates:  [[2022, 5, 14]]\n",
      "3\n",
      "http://weather.uwyo.edu/cgi-bin/sounding?region=naconf&TYPE=TEXT%3ALIST&YEAR=2022&MONTH=5&FROM=512&TO=512&STNM=72797&REPLOT=1\n",
      "http://weather.uwyo.edu/cgi-bin/sounding?region=naconf&TYPE=TEXT%3ALIST&YEAR=2022&MONTH=5&FROM=512&TO=512&STNM=73033&REPLOT=1\n",
      "http://weather.uwyo.edu/cgi-bin/sounding?region=naconf&TYPE=TEXT%3ALIST&YEAR=2022&MONTH=5&FROM=512&TO=512&STNM=71109&REPLOT=1\n"
     ]
    }
   ],
   "source": [
    "base_url = \"http://weather.uwyo.edu/cgi-bin/sounding?region=naconf&TYPE=TEXT%3ALIST\"\n",
    "stations = [72797, 73033, 71109]\n",
    "\n",
    "now = [\n",
    "    datetime.now().year, \n",
    "    datetime.now().month, \n",
    "    datetime.now().day]\n",
    "\n",
    "# Create date range\n",
    "dates = []\n",
    "dates_arr = []\n",
    "#start_date = date(2022, 4, 1)\n",
    "start_date = date(now[0], now[1], now[2])\n",
    "end_date = date(now[0], now[1], now[2]+1)\n",
    "#print(f\"Start: {start_date}\\nEnd: {end_date}\")\n",
    "for single_date in daterange(start_date, end_date):\n",
    "    dates.append(str(single_date)) \n",
    "    single_date = (str(single_date).split(\"-\")) \n",
    "    dates_arr.append([ int(x) for x in single_date ])\n",
    "       \n",
    "print(\"Dates: \", dates_arr)\n",
    "\n",
    "# Create list of URLs for each station\n",
    "urls = []\n",
    "for d in dates_arr:\n",
    "    for station in stations:\n",
    "        url = base_url\n",
    "        url += \"&YEAR=\" + str(d[0])\n",
    "        url += \"&MONTH=\" + str(d[1])\n",
    "        #url += \"&FROM=\" + str(now[1]) + str(now[2])\n",
    "        #url += \"&TO=\" + str(now[1]) + str(now[2])\n",
    "        url += \"&FROM=\" + str(d[1]) + \"12\"\n",
    "        url += \"&TO=\" + str(d[1]) + \"12\"\n",
    "        url += \"&STNM=\" + str(station)\n",
    "        url += \"&REPLOT=1\"\n",
    "        urls.append(url)\n",
    "\n",
    "    \n",
    "print(len(urls))\n",
    "for url in urls:\n",
    "    print(url)"
   ]
  },
  {
   "cell_type": "code",
   "execution_count": 28,
   "id": "dd3a7cde",
   "metadata": {},
   "outputs": [
    {
     "name": "stdout",
     "output_type": "stream",
     "text": [
      "0\n",
      "[['700.0', '2939', '-4.9', '-5.8', '93', '3.56', '225', '16', '297.0', '307.9', '297.7'], ['850.0', '1392', '2.0', '1.2', '94', '4.93', '195', '22', '288.2', '302.5', '289.1'], ['700.0', '2977', '-3.3', '-5.9', '82', '3.53', '200', '33', '298.8', '309.7', '299.4'], ['850.0', '1400', '7.4', '2.4', '71', '5.38', '210', '8', '293.9', '309.8', '294.8'], ['700.0', '2899', '-9.9', '-12.7', '80', '2.07', '190', '10', '291.5', '297.9', '291.9'], ['850.0', '1373', '-2.3', '-4.4', '86', '3.26', '155', '6', '283.7', '293.2', '284.3']]\n"
     ]
    }
   ],
   "source": [
    "data = []\n",
    "\n",
    "for i, url in enumerate(urls):\n",
    "    if(i%5==0):\n",
    "        print(i)\n",
    "\n",
    "    #print(floor(i/len(stations)))\n",
    "    page = requests.get(url)\n",
    "    soup = BeautifulSoup(page.content, \"html.parser\")\n",
    "    results = str(soup.find('pre'))\n",
    "    # we want 700 first // 850 second\n",
    "    data.append(results[results.find(\"700.0\"):].split()[:11].insert(0, dates[floor(i/len(stations))]))\n",
    "    data.append(results[results.find(\"850.0\"):].split()[:11].insert(0, dates[floor(i/len(stations))]))\n",
    "\n",
    "print(data)"
   ]
  },
  {
   "cell_type": "code",
   "execution_count": 39,
   "id": "68c5123a",
   "metadata": {},
   "outputs": [
    {
     "name": "stdout",
     "output_type": "stream",
     "text": [
      "                 PRES  HGHT  TEMP   DWPT RELH  MIXR DRCT SKNT   THTA   THTE  \\\n",
      "Quillayute 850  700.0  2939  -4.9   -5.8   93  3.56  225   16  297.0  307.9   \n",
      "Quillayute 700  850.0  1392   2.0    1.2   94  4.93  195   22  288.2  302.5   \n",
      "Vernon 850      700.0  2977  -3.3   -5.9   82  3.53  200   33  298.8  309.7   \n",
      "Vernon 700      850.0  1400   7.4    2.4   71  5.38  210    8  293.9  309.8   \n",
      "Port Hardy 850  700.0  2899  -9.9  -12.7   80  2.07  190   10  291.5  297.9   \n",
      "Port Hardy 700  850.0  1373  -2.3   -4.4   86  3.26  155    6  283.7  293.2   \n",
      "\n",
      "                 THTV  \n",
      "Quillayute 850  297.7  \n",
      "Quillayute 700  289.1  \n",
      "Vernon 850      299.4  \n",
      "Vernon 700      294.8  \n",
      "Port Hardy 850  291.9  \n",
      "Port Hardy 700  284.3  \n"
     ]
    }
   ],
   "source": [
    "np_data = np.array(data)\n",
    "data = pd.DataFrame(\n",
    "    data=np_data, \n",
    "    columns=[\"DATE\", \"PRES\", \"HGHT\", \"TEMP\", \"DWPT\", \"RELH\", \"MIXR\", \"DRCT\", \"SKNT\", \"THTA\", \"THTE\", \"THTV\"], \n",
    "    index=[\"Quillayute 700\", \"Quillayute 850\", \"Vernon 700\", \"Vernon 850\", \"Port Hardy 700\", \"Port Hardy 850\"])\n",
    "\n",
    "print(data)\n",
    "#[\"pressure\",\"height\",\"temo\",\"dewpoint\",\"relatie humidity\",\"Mean mixed layer\",\"direction\",\"speed knts\", \"\"]"
   ]
  },
  {
   "cell_type": "markdown",
   "id": "699a43da",
   "metadata": {},
   "source": [
    "## APP (2)\n",
    "\n",
    "Easy to read / on the go / big text\n",
    "\n",
    "700 | 3020m | -7 |\n",
    "- - - - - - - - -\n",
    "850 | 1590m | -9 |\n",
    "\n",
    "Wind direction in an arrow // color coded magnitude and direction\n",
    "\n",
    "\n",
    "Gathering data from brohm ridge needs to be done hourly\n",
    "- looking like avalanche canada page on Wx\n",
    "\n",
    "\n",
    "## Drive (1)\n",
    "Guide daily forms\n",
    "- Integrate to slack\n",
    "\n",
    "Users need to see\n",
    "- Just the weather info\n",
    "\n",
    "\n",
    "## Webcms (3)\n",
    "(load one by one -- javascript)\n",
    "- cayoosh\n",
    "- whistler peak\n",
    "- blackcomb\n",
    "- rubble creek\n",
    "- brohm ridge\n",
    "- s2s\n",
    "\n",
    "\n",
    "western developement fund of canada /// Western Economic Diversification Canada"
   ]
  },
  {
   "cell_type": "code",
   "execution_count": null,
   "id": "dc652d91",
   "metadata": {},
   "outputs": [],
   "source": []
  },
  {
   "cell_type": "code",
   "execution_count": null,
   "id": "c08b2a8c",
   "metadata": {},
   "outputs": [],
   "source": []
  }
 ],
 "metadata": {
  "kernelspec": {
   "display_name": "Python 3",
   "language": "python",
   "name": "python3"
  },
  "language_info": {
   "codemirror_mode": {
    "name": "ipython",
    "version": 3
   },
   "file_extension": ".py",
   "mimetype": "text/x-python",
   "name": "python",
   "nbconvert_exporter": "python",
   "pygments_lexer": "ipython3",
   "version": "3.9.4"
  }
 },
 "nbformat": 4,
 "nbformat_minor": 5
}
