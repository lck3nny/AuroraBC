{
 "cells": [
  {
   "cell_type": "markdown",
   "id": "229a0015",
   "metadata": {},
   "source": [
    "# Scraper\n",
    "-----\n",
    "- Extracts data from weather balloon readings\n",
    "- Transforms data into standard format\n",
    "- Displays data on easily understandable graphs\n",
    "---"
   ]
  },
  {
   "cell_type": "code",
   "execution_count": 130,
   "id": "6a4ea606",
   "metadata": {},
   "outputs": [],
   "source": [
    "import os\n",
    "import requests\n",
    "import pandas as pd\n",
    "from datetime import date, datetime, timedelta\n",
    "from bs4 import BeautifulSoup\n",
    "import numpy as np\n",
    "from math import floor\n",
    "from pathlib import Path  \n",
    "from alive_progress import alive_bar\n",
    "import ipywidgets as widgets\n",
    "import matplotlib.pyplot as plt\n",
    "import matplotlib.cm as cm\n",
    "import matplotlib.colors as colors\n",
    "import seaborn as sns\n",
    "from windrose import WindroseAxes\n",
    "from PIL import Image\n",
    "\n",
    "now = [datetime.now().year, datetime.now().month, datetime.now().day]"
   ]
  },
  {
   "cell_type": "markdown",
   "id": "01457bc0",
   "metadata": {},
   "source": [
    "## Define baseline params\n",
    "---\n",
    "- URL to be used\n",
    "- Columns to be extracted\n",
    "- Weather stations to examine\n",
    "- Current date/time\n",
    "---"
   ]
  },
  {
   "cell_type": "code",
   "execution_count": 132,
   "id": "ec8c2661",
   "metadata": {},
   "outputs": [],
   "source": [
    "# Function to truncate a colormap\n",
    "# Used to remove white / black (or other) bookended values\n",
    "def truncate_colormap(cmap, minval=0.0, maxval=1.0, n=100):\n",
    "    new_cmap = colors.LinearSegmentedColormap.from_list(\n",
    "        'trunc({n},{a:.2f},{b:.2f})'.format(n=cmap.name, a=minval, b=maxval),\n",
    "        cmap(np.linspace(minval, maxval, n)))\n",
    "    return new_cmap"
   ]
  },
  {
   "cell_type": "markdown",
   "id": "f565ecad",
   "metadata": {},
   "source": [
    "#### Scraper Details"
   ]
  },
  {
   "cell_type": "code",
   "execution_count": 133,
   "id": "4b253f61",
   "metadata": {},
   "outputs": [],
   "source": [
    "scraper_details = {\n",
    "  'base_url': \"http://weather.uwyo.edu/cgi-bin/sounding?region=naconf&TYPE=TEXT%3ALIST\",\n",
    "  'cols': [\"Date\", \"Station\", \"Pressure\", \"Height\", \"Temp\", \"DewPoint\", \"Relative_Humidity\", \"Mean_Mixed_Layer\", \"Wind_Direction\", \"Wind_Speed\", \"Potential_Temp\", \"Equivalent_Potential_Temp\", \"Virtual_Potential_Temp\"]\n",
    "}"
   ]
  },
  {
   "cell_type": "markdown",
   "id": "ff326faa",
   "metadata": {},
   "source": [
    "#### Graph details"
   ]
  },
  {
   "cell_type": "code",
   "execution_count": 134,
   "id": "ea467a5a",
   "metadata": {},
   "outputs": [],
   "source": [
    "graph_details ={\n",
    "  'temperature': {\n",
    "    'palette': [sns.color_palette(\"Paired\", n_colors=6)[idx] for idx in [1, 0, 3, 2, 5, 4]],\n",
    "    'ranges': [timedelta(hours=-1), timedelta(hours=-24), timedelta(days=-3), timedelta(days=-7), timedelta(days=-30), timedelta(days=-90), timedelta(days=-180)],\n",
    "  },\n",
    "  'wind': {\n",
    "    'palette': truncate_colormap(cm.viridis_r, minval=0, maxval=0.9),\n",
    "    'ranges': [timedelta(hours=-12), timedelta(hours=-24), timedelta(days=-3), timedelta(days=-7)]\n",
    "  }\n",
    "}"
   ]
  },
  {
   "cell_type": "markdown",
   "id": "03a6b046",
   "metadata": {},
   "source": [
    "#### Balloon locations"
   ]
  },
  {
   "cell_type": "code",
   "execution_count": 135,
   "id": "8aa8714d",
   "metadata": {},
   "outputs": [],
   "source": [
    "locations = [\n",
    "  {'id': 72797, 'name': 'Quillayute', 'temp_palette': graph_details['temperature']['palette'][0:2]},\n",
    "  {'id': 73033, 'name': 'Vernon', 'temp_palette': graph_details['temperature']['palette'][2:4]},\n",
    "  {'id': 71109, 'name': 'Port Hardy', 'temp_palette': graph_details['temperature']['palette'][4:6]}\n",
    "]"
   ]
  },
  {
   "cell_type": "markdown",
   "id": "231af35b",
   "metadata": {},
   "source": [
    "### Generate URLs to be scraped\n",
    "---"
   ]
  },
  {
   "cell_type": "code",
   "execution_count": 136,
   "id": "58cb2d93",
   "metadata": {},
   "outputs": [
    {
     "name": "stdout",
     "output_type": "stream",
     "text": [
      "http://weather.uwyo.edu/cgi-bin/sounding?region=naconf&TYPE=TEXT%3ALIST&YEAR=2023&MONTH=6&FROM=1900&TO=1923&STNM=72797&REPLOT=1\n",
      "http://weather.uwyo.edu/cgi-bin/sounding?region=naconf&TYPE=TEXT%3ALIST&YEAR=2023&MONTH=6&FROM=1900&TO=1923&STNM=73033&REPLOT=1\n",
      "http://weather.uwyo.edu/cgi-bin/sounding?region=naconf&TYPE=TEXT%3ALIST&YEAR=2023&MONTH=6&FROM=1900&TO=1923&STNM=71109&REPLOT=1\n"
     ]
    }
   ],
   "source": [
    "for location in locations:\n",
    "    location['url'] = '{}&YEAR={}&MONTH={}&FROM={:0>2d}00&TO={:0>2d}23&STNM={}&REPLOT=1'.format(scraper_details['base_url'], datetime.now().year, datetime.now().month, datetime.now().day, datetime.now().day, location['id'])\n",
    "\n",
    "for location in locations:\n",
    "    print(location['url'])\n",
    "    "
   ]
  },
  {
   "cell_type": "markdown",
   "id": "79f9e5fd",
   "metadata": {},
   "source": [
    "## Scrape new data from each location\n",
    "---"
   ]
  },
  {
   "cell_type": "code",
   "execution_count": 110,
   "id": "30d1d03d",
   "metadata": {},
   "outputs": [],
   "source": [
    "for location in locations:\n",
    "    search = 0\n",
    "    data = []\n",
    "    while search >= 0:\n",
    "        # scrape site data\n",
    "        # ~~~~~~~~~~~~~~~~\n",
    "        search += 1\n",
    "        page = requests.get(location['url'])\n",
    "        soup = BeautifulSoup(page.content, \"html.parser\")\n",
    "        results = str(soup.find('pre'))\n",
    "        sevhundy = results[results.find(\"700.0\"):].split()[:11]\n",
    "        eightfiddy = results[results.find(\"850.0\"):].split()[:11]\n",
    "\n",
    "        # catch erroneous reads\n",
    "        # site can hit too many requests\n",
    "        # ~~~~~~~~~~~~~~~~~~~~~~~~~~~~~~\n",
    "        if 'e' not in sevhundy[0] and 'e' not in eightfiddy[0]:\n",
    "            search = -1\n",
    "        elif search == 10:\n",
    "            print(url)\n",
    "            problem_urls.append(url)\n",
    "            search = -1\n",
    "            \n",
    "    # we want 700 first // 850 second\n",
    "    # ~~~~~~~~~~~~~~~~~~~~~~~~~~~~~~~\n",
    "    data.append(sevhundy)\n",
    "    data[-1].insert(0, '%02d-%02d-%02d' % (now[0], now[1], now[2]))\n",
    "    data[-1].insert(1, location['name'])\n",
    "\n",
    "    data.append(eightfiddy)\n",
    "    data[-1].insert(0, '%02d-%02d-%02d' % (now[0], now[1], now[2]))\n",
    "    data[-1].insert(1, location['name'])\n",
    "        \n",
    "    location['data'] = data"
   ]
  },
  {
   "cell_type": "code",
   "execution_count": 111,
   "id": "bafaf292",
   "metadata": {},
   "outputs": [
    {
     "name": "stdout",
     "output_type": "stream",
     "text": [
      "[['2023-06-06', 'Quillayute', '700.0', '3125', '2.8', '-22.2', '14', '0.93', '305', '15', '305.6', '308.7', '305.7'], ['2023-06-06', 'Quillayute', '850.0', '1537', '10.0', '-17.0', '13', '1.19', '15', '15', '296.6', '300.5', '296.8']]\n",
      "[['2023-06-06', 'Vernon', '700.0', '3121', '0.0', '-23.0', '16', '0.86', '275', '12', '302.4', '305.4', '302.6'], ['2023-06-06', 'Vernon', '850.0', '1544', '10.8', '-4.2', '35', '3.31', '15', '5', '297.4', '307.6', '298.0']]\n",
      "[['2023-06-06', 'Port Hardy', '700.0', '3115', '1.0', '-42.0', '2', '0.14', '295', '9', '303.6', '304.1', '303.6'], ['2023-06-06', 'Port Hardy', '850.0', '1529', '9.8', '-14.2', '17', '1.51', '350', '9', '296.4', '301.2', '296.7']]\n"
     ]
    }
   ],
   "source": [
    "for location in locations:\n",
    "    print(location['data'])"
   ]
  },
  {
   "cell_type": "code",
   "execution_count": 112,
   "id": "73b7b70d",
   "metadata": {},
   "outputs": [
    {
     "name": "stdout",
     "output_type": "stream",
     "text": [
      "['2023-06-06', 'Quillayute', '700.0', '3125', '2.8', '-22.2', '14', '0.93', '305', '15', '305.6', '308.7', '305.7']\n",
      "['2023-06-06', 'Quillayute', '850.0', '1537', '10.0', '-17.0', '13', '1.19', '15', '15', '296.6', '300.5', '296.8']\n",
      "['2023-06-06', 'Vernon', '700.0', '3121', '0.0', '-23.0', '16', '0.86', '275', '12', '302.4', '305.4', '302.6']\n",
      "['2023-06-06', 'Vernon', '850.0', '1544', '10.8', '-4.2', '35', '3.31', '15', '5', '297.4', '307.6', '298.0']\n",
      "['2023-06-06', 'Port Hardy', '700.0', '3115', '1.0', '-42.0', '2', '0.14', '295', '9', '303.6', '304.1', '303.6']\n",
      "['2023-06-06', 'Port Hardy', '850.0', '1529', '9.8', '-14.2', '17', '1.51', '350', '9', '296.4', '301.2', '296.7']\n"
     ]
    }
   ],
   "source": [
    "# Remove rogue \"e\" values from pressure field\n",
    "# ~~~~~~~~~~~~~~~~~~~~~~~~~~~~~~~~~~~~~~~~~~~\n",
    "pressures = [700, 850]\n",
    "ctr = 0\n",
    "for location in locations:\n",
    "    for row in location['data']:\n",
    "        try:\n",
    "            if(not int(float(row[2])) in pressures):\n",
    "                row[2] = pressures[ctr%2]\n",
    "        except Exception as e:\n",
    "            print(e)\n",
    "            \n",
    "        ctr += 1\n",
    "        print(row)"
   ]
  },
  {
   "cell_type": "markdown",
   "id": "7e82489c",
   "metadata": {},
   "source": [
    "### Convert to Pandas DataFrame"
   ]
  },
  {
   "cell_type": "code",
   "execution_count": 115,
   "id": "47e54241",
   "metadata": {},
   "outputs": [
    {
     "data": {
      "text/html": [
       "<div>\n",
       "<style scoped>\n",
       "    .dataframe tbody tr th:only-of-type {\n",
       "        vertical-align: middle;\n",
       "    }\n",
       "\n",
       "    .dataframe tbody tr th {\n",
       "        vertical-align: top;\n",
       "    }\n",
       "\n",
       "    .dataframe thead th {\n",
       "        text-align: right;\n",
       "    }\n",
       "</style>\n",
       "<table border=\"1\" class=\"dataframe\">\n",
       "  <thead>\n",
       "    <tr style=\"text-align: right;\">\n",
       "      <th></th>\n",
       "      <th>Date</th>\n",
       "      <th>Station</th>\n",
       "      <th>Pressure</th>\n",
       "      <th>Height</th>\n",
       "      <th>Temp</th>\n",
       "      <th>DewPoint</th>\n",
       "      <th>Relative_Humidity</th>\n",
       "      <th>Mean_Mixed_Layer</th>\n",
       "      <th>Wind_Direction</th>\n",
       "      <th>Wind_Speed</th>\n",
       "      <th>Potential_Temp</th>\n",
       "      <th>Equivalent_Potential_Temp</th>\n",
       "      <th>Virtual_Potential_Temp</th>\n",
       "    </tr>\n",
       "  </thead>\n",
       "  <tbody>\n",
       "    <tr>\n",
       "      <th>0</th>\n",
       "      <td>2023-06-06</td>\n",
       "      <td>Quillayute</td>\n",
       "      <td>700.0</td>\n",
       "      <td>3125</td>\n",
       "      <td>2.8</td>\n",
       "      <td>-22.2</td>\n",
       "      <td>14</td>\n",
       "      <td>0.93</td>\n",
       "      <td>305</td>\n",
       "      <td>27.780</td>\n",
       "      <td>305.6</td>\n",
       "      <td>308.7</td>\n",
       "      <td>305.7</td>\n",
       "    </tr>\n",
       "    <tr>\n",
       "      <th>1</th>\n",
       "      <td>2023-06-06</td>\n",
       "      <td>Quillayute</td>\n",
       "      <td>850.0</td>\n",
       "      <td>1537</td>\n",
       "      <td>10.0</td>\n",
       "      <td>-17.0</td>\n",
       "      <td>13</td>\n",
       "      <td>1.19</td>\n",
       "      <td>15</td>\n",
       "      <td>27.780</td>\n",
       "      <td>296.6</td>\n",
       "      <td>300.5</td>\n",
       "      <td>296.8</td>\n",
       "    </tr>\n",
       "    <tr>\n",
       "      <th>2</th>\n",
       "      <td>2023-06-06</td>\n",
       "      <td>Vernon</td>\n",
       "      <td>700.0</td>\n",
       "      <td>3121</td>\n",
       "      <td>0.0</td>\n",
       "      <td>-23.0</td>\n",
       "      <td>16</td>\n",
       "      <td>0.86</td>\n",
       "      <td>275</td>\n",
       "      <td>22.224</td>\n",
       "      <td>302.4</td>\n",
       "      <td>305.4</td>\n",
       "      <td>302.6</td>\n",
       "    </tr>\n",
       "    <tr>\n",
       "      <th>3</th>\n",
       "      <td>2023-06-06</td>\n",
       "      <td>Vernon</td>\n",
       "      <td>850.0</td>\n",
       "      <td>1544</td>\n",
       "      <td>10.8</td>\n",
       "      <td>-4.2</td>\n",
       "      <td>35</td>\n",
       "      <td>3.31</td>\n",
       "      <td>15</td>\n",
       "      <td>9.260</td>\n",
       "      <td>297.4</td>\n",
       "      <td>307.6</td>\n",
       "      <td>298.0</td>\n",
       "    </tr>\n",
       "    <tr>\n",
       "      <th>4</th>\n",
       "      <td>2023-06-06</td>\n",
       "      <td>Port Hardy</td>\n",
       "      <td>700.0</td>\n",
       "      <td>3115</td>\n",
       "      <td>1.0</td>\n",
       "      <td>-42.0</td>\n",
       "      <td>2</td>\n",
       "      <td>0.14</td>\n",
       "      <td>295</td>\n",
       "      <td>16.668</td>\n",
       "      <td>303.6</td>\n",
       "      <td>304.1</td>\n",
       "      <td>303.6</td>\n",
       "    </tr>\n",
       "  </tbody>\n",
       "</table>\n",
       "</div>"
      ],
      "text/plain": [
       "         Date     Station  Pressure  Height  Temp  DewPoint  \\\n",
       "0  2023-06-06  Quillayute     700.0    3125   2.8     -22.2   \n",
       "1  2023-06-06  Quillayute     850.0    1537  10.0     -17.0   \n",
       "2  2023-06-06      Vernon     700.0    3121   0.0     -23.0   \n",
       "3  2023-06-06      Vernon     850.0    1544  10.8      -4.2   \n",
       "4  2023-06-06  Port Hardy     700.0    3115   1.0     -42.0   \n",
       "\n",
       "   Relative_Humidity  Mean_Mixed_Layer  Wind_Direction  Wind_Speed  \\\n",
       "0                 14              0.93             305      27.780   \n",
       "1                 13              1.19              15      27.780   \n",
       "2                 16              0.86             275      22.224   \n",
       "3                 35              3.31              15       9.260   \n",
       "4                  2              0.14             295      16.668   \n",
       "\n",
       "   Potential_Temp  Equivalent_Potential_Temp  Virtual_Potential_Temp  \n",
       "0           305.6                      308.7                   305.7  \n",
       "1           296.6                      300.5                   296.8  \n",
       "2           302.4                      305.4                   302.6  \n",
       "3           297.4                      307.6                   298.0  \n",
       "4           303.6                      304.1                   303.6  "
      ]
     },
     "execution_count": 115,
     "metadata": {},
     "output_type": "execute_result"
    }
   ],
   "source": [
    "new_data = pd.DataFrame(locations[0]['data'] + locations[1]['data'] + locations[2]['data'], columns=scraper_details['cols'])\n",
    "\n",
    "# Convert DataFrame to numeric values\n",
    "# ~~~~~~~~~~~~~~~~~~~~~~~~~~~~~~~~~~~\n",
    "for col in scraper_details['cols'][2:]:\n",
    "    try:\n",
    "        new_data[col] = pd.to_numeric(new_data[col])\n",
    "    except:\n",
    "        print(col)\n",
    "    \n",
    "# Convert wind speed from Knots to KM/H\n",
    "# ~~~~~~~~~~~~~~~~~~~~~~~~~~~~~~~~~~~~~\n",
    "new_data['Wind_Speed'] = new_data['Wind_Speed'].multiply(1.852)\n",
    "new_data.head()\n"
   ]
  },
  {
   "cell_type": "markdown",
   "id": "9bdd8188",
   "metadata": {},
   "source": [
    "## Read season data\n",
    "---"
   ]
  },
  {
   "cell_type": "code",
   "execution_count": 126,
   "id": "0e468e3d",
   "metadata": {},
   "outputs": [],
   "source": [
    "# Calculate filepath for current season data\n",
    "# ~~~~~~~~~~~~~~~~~~~~~~~~~~~~~~~~~~~~~~~~~~\n",
    "if datetime.now().month < 8 :\n",
    "    this_season = '{}-{}'.format(datetime.now().year -1, datetime.now().year)\n",
    "else:\n",
    "    this_season = '{}-{}'.format(datetime.now().year, datetime.now().year + 1)\n",
    "    \n",
    "data_path = './data/balloon-data-{}.csv'.format(this_season)\n",
    "\n",
    "# If there is not file for this season, create a new file\n",
    "# ~~~~~~~~~~~~~~~~~~~~~~~~~~~~~~~~~~~~~~~~~~~~~~~~~~~~~~~\n",
    "if not os.path.exists(data_path):\n",
    "    filepath = Path(data_path)\n",
    "    filepath.parent.mkdir(parents=True, exist_ok=True) \n",
    "    new_data.to_csv(filepath)\n",
    "# Concat current season data with today's data and overwrite file\n",
    "# ~~~~~~~~~~~~~~~~~~~~~~~~~~~~~~~~~~~~~~~~~~~~~~~~~~~~~~~~~~~~~~~\n",
    "else:\n",
    "    season_data = pd.read_csv(data_path)\n",
    "    season_data.head()\n",
    "    \n"
   ]
  },
  {
   "cell_type": "code",
   "execution_count": 129,
   "id": "b91c46a6",
   "metadata": {},
   "outputs": [],
   "source": [
    "# Why isn't this code finding the current file?\n",
    "# Do we want to keep the old file for backup purposes?\n",
    "\n",
    "# First search for current file\n",
    "# Look for missing data dates between today and start_date\n",
    "# Scrape data for missing data only\n",
    "# Append missing data to DataFrame\n",
    "# Save updated DF to CSV"
   ]
  },
  {
   "cell_type": "code",
   "execution_count": null,
   "id": "089b6fe7",
   "metadata": {},
   "outputs": [],
   "source": []
  }
 ],
 "metadata": {
  "kernelspec": {
   "display_name": "Python 3 (ipykernel)",
   "language": "python",
   "name": "python3"
  },
  "language_info": {
   "codemirror_mode": {
    "name": "ipython",
    "version": 3
   },
   "file_extension": ".py",
   "mimetype": "text/x-python",
   "name": "python",
   "nbconvert_exporter": "python",
   "pygments_lexer": "ipython3",
   "version": "3.11.2"
  }
 },
 "nbformat": 4,
 "nbformat_minor": 5
}
