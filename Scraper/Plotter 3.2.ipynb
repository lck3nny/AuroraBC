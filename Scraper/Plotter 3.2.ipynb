{
 "cells": [
  {
   "cell_type": "markdown",
   "id": "e462d167",
   "metadata": {},
   "source": [
    "# Plotter 3.1\n",
    "---"
   ]
  },
  {
   "cell_type": "code",
   "execution_count": 235,
   "id": "16d3d06c",
   "metadata": {},
   "outputs": [],
   "source": [
    "import base64\n",
    "import os, io\n",
    "import imageio\n",
    "import pytz\n",
    "from datetime import date, datetime, timedelta\n",
    "import pandas as pd\n",
    "import seaborn as sns\n",
    "from windrose import WindroseAxes\n",
    "import matplotlib.pyplot as plt\n",
    "import matplotlib.cm as cm\n",
    "import matplotlib.colors as colors\n",
    "import matplotlib.animation as animation\n",
    "from PIL import Image\n",
    "import numpy as np\n",
    "import google.cloud.logging\n",
    "from google.cloud import storage\n",
    "import logging\n",
    "from alive_progress import alive_bar"
   ]
  },
  {
   "cell_type": "code",
   "execution_count": 223,
   "id": "06b938dc",
   "metadata": {},
   "outputs": [],
   "source": [
    "os.environ['GOOGLE_APPLICATION_CREDENTIALS'] = '../service_account.json'"
   ]
  },
  {
   "cell_type": "markdown",
   "id": "cf3f851a",
   "metadata": {},
   "source": [
    "### Create Date Range "
   ]
  },
  {
   "cell_type": "code",
   "execution_count": 224,
   "id": "a46eee4d",
   "metadata": {},
   "outputs": [],
   "source": [
    "# ~~~~~~~~~~~~~~~~~~~~~~~~~~~~~~~~~~~~~~~~~~~~~~~~~~~~~~~~~~~~~~~~~~~~~~\n",
    "# ----- ----- ----- -----    CREATE DATERANGE    ----- ----- ----- -----\n",
    "# Create list of all dates between start_date and end_date\n",
    "# ~~~~~~~~~~~~~~~~~~~~~~~~~~~~~~~~~~~~~~~~~~~~~~~~~~~~~~~~~~~~~~~~~~~~~~\n",
    "def daterange(start_date, end_date):\n",
    "    for n in range(int((end_date - start_date).days)):\n",
    "        yield start_date + timedelta(n)\n",
    "\n",
    "# ======================================================================"
   ]
  },
  {
   "cell_type": "markdown",
   "id": "9f37eca9",
   "metadata": {},
   "source": [
    "### Truncate CMAP"
   ]
  },
  {
   "cell_type": "code",
   "execution_count": 225,
   "id": "d45d5779",
   "metadata": {},
   "outputs": [],
   "source": [
    "# ~~~~~~~~~~~~~~~~~~~~~~~~~~~~~~~~~~~~~~~~~~~~~~~~~~~~~~~~~~~~~~~~~~~~~~\n",
    "# ----- ----- ----- -----   TRUNCATE COLORMAP    ----- ----- ----- -----\n",
    "# Can be used to remove white / black bookended values\n",
    "# ~~~~~~~~~~~~~~~~~~~~~~~~~~~~~~~~~~~~~~~~~~~~~~~~~~~~~~~~~~~~~~~~~~~~~~\n",
    "def truncate_colormap(cmap, minval=0.0, maxval=1.0, n=100):\n",
    "    new_cmap = colors.LinearSegmentedColormap.from_list(\n",
    "          'trunc({n},{a:.2f},{b:.2f})'.format(n=cmap.name, a=minval, b=maxval),\n",
    "          cmap(np.linspace(minval, maxval, n)))\n",
    "    return new_cmap\n",
    "\n",
    "# ======================================================================"
   ]
  },
  {
   "cell_type": "markdown",
   "id": "36fe7f26",
   "metadata": {},
   "source": [
    "### Import Weather Data"
   ]
  },
  {
   "cell_type": "code",
   "execution_count": 226,
   "id": "9966525c",
   "metadata": {},
   "outputs": [],
   "source": [
    "# -------------------------------------------------------------------------------\n",
    "# IMPORT DATASET\n",
    "# Function to import all weather data\n",
    "# Data Patching completed in this step\n",
    "# -------------------------------------------------------------------------------\n",
    "def import_weather_data(storage_client):\n",
    "    # Connect to Google Cloud Storage\n",
    "    # -------------------------------\n",
    "    storage_client = storage.Client()\n",
    "\n",
    "    # Open Bucket\n",
    "    # -----------\n",
    "    bucket_name = 'weather_aurorabc'\n",
    "    bucket = storage_client.bucket(bucket_name)\n",
    "\n",
    "    # Open Blob\n",
    "    # ---------\n",
    "    blob_name = 'weather_ampm.csv'\n",
    "    blob = bucket.blob(blob_name)\n",
    "\n",
    "    # Read Weather Data from Blob\n",
    "    # ---------------------------\n",
    "    with blob.open(\"r\") as f:\n",
    "        weather_data = pd.read_csv(f)\n",
    "\n",
    "    # Cast all data variables to float\n",
    "    weather_data = weather_data.astype(\n",
    "        {'Height':'float',\n",
    "        'Temp':'float',\n",
    "        'Dew_Point':'float',\n",
    "        'Relative_Humidity':'float',\n",
    "        'Mixing_Ratio':'float',\n",
    "        'Wind_Direction':'float',\n",
    "        'Wind_Speed':'float',\n",
    "        'Potential_Temp':'float',\n",
    "        'Equivalent_Potential_Temp':'float',\n",
    "        'Virtual_Potential_Temp':'float',\n",
    "        })\n",
    "\n",
    "    return weather_data"
   ]
  },
  {
   "cell_type": "markdown",
   "id": "08ff6a6d",
   "metadata": {},
   "source": [
    "# Find Missing Plots\n",
    "---"
   ]
  },
  {
   "cell_type": "code",
   "execution_count": 234,
   "id": "3bd43152",
   "metadata": {},
   "outputs": [],
   "source": [
    "# -------------------------------------------------------------------------------\n",
    "# FIND MISSING PLOTS\n",
    "# Function to find any dates with missing plots\n",
    "# Returns a list of dates to be plot\n",
    "# -------------------------------------------------------------------------------\n",
    "def find_missing_plots(storage_client, locations, temp_plot_range, wind_plot_range):\n",
    "    \n",
    "    print(\"Scanning for missing graphs...\")\n",
    "    \n",
    "    # Create Date Range\n",
    "    # ~~~~~~~~~~~~~~~~~\n",
    "    end_date = datetime.today(pytz.timezone(\"America/Vancouver\"))\n",
    "    start_date = end_date - timedelta(days=90)\n",
    "    \n",
    "    search_range = []\n",
    "    for single_date in daterange(start_date, end_date):\n",
    "        search_range.append(single_date.date())\n",
    "                                \n",
    "    # Define static params\n",
    "    # ~~~~~~~~~~~~~~~~~~~~\n",
    "    bucket_name = 'weather_aurorabc'\n",
    "    bucket = storage_client.bucket(bucket_name)\n",
    "    plots = ['temp', 'wind']\n",
    "    \n",
    "        \n",
    "    # Search through range of dates for missing graphs\n",
    "    # ~~~~~~~~~~~~~~~~~~~~~~~~~~~~~~~~~~~~~~~~~~~~~~~~\n",
    "    missing_dates = []\n",
    "    for date in search_range:\n",
    "        if len(missing_dates) >= 5: break\n",
    "        for loc in locations:\n",
    "            for plot in plots:\n",
    "                if plot == 'temp':\n",
    "                    plot_range = temp_plot_range\n",
    "                else:\n",
    "                    plot_range = wind_plot_range\n",
    "                for r in plot_range:\n",
    "                    blob_name = 'graphs/{}/{}_{}_{}d_{}.webp'.format(date.strftime(\"%Y-%m-%d\"), loc, plot, r, date.strftime(\"%Y-%m-%d\"))\n",
    "                    found = storage.Blob(bucket=bucket, name=blob_name).exists(storage_client)\n",
    "                    if not found:\n",
    "                        missing_dates.append(date)\n",
    "                        break\n",
    "                if date in missing_dates:\n",
    "                    break\n",
    "                    \n",
    "            # Check for windloading GIFs\n",
    "            blob_name = 'graphs/{}/{}_windloading_{}.gif'.format(date.strftime(\"%Y-%m-%d\"), loc, date.strftime(\"%Y-%m-%d\"))\n",
    "            if not storage.Blob(bucket=bucket, name=blob_name).exists(storage_client):\n",
    "                missing_dates.append(date)\n",
    "                break\n",
    "            if date in missing_dates:\n",
    "                break\n",
    "\n",
    "        \n",
    "    return missing_dates"
   ]
  },
  {
   "cell_type": "markdown",
   "id": "6167aef7",
   "metadata": {},
   "source": [
    "# Plot Temps\n",
    "---\n",
    "Updated function to plot temperature graphs of varying data ranges for a range of dates for individual locations"
   ]
  },
  {
   "cell_type": "code",
   "execution_count": 228,
   "id": "d1911fd6",
   "metadata": {},
   "outputs": [],
   "source": [
    "# -------------------------------------------------------------------------------\n",
    "# PLOT TEMPS\n",
    "# Function to plot temps for a SINGLE LOCATION for a range of dateranges\n",
    "# Saves graphs to Google Cloud Storage\n",
    "# -------------------------------------------------------------------------------\n",
    "def plot_temps(storage_client, location, dates, plot_range):\n",
    "\n",
    "    for d in dates:\n",
    "        for r in plot_range:\n",
    "            \n",
    "            # Set figure details\n",
    "            # ~~~~~~~~~~~~~~~~~~\n",
    "            plt.figure(figsize=(20,6))\n",
    "            plt.xlim([0, r -1])\n",
    "            plt.grid()\n",
    "            plt.axhline(0, color='black')\n",
    "            plt.xticks(rotation = 'vertical')\n",
    "            plt.title(\"Temperature °C - {} day\".format(r))\n",
    "            if r > 30:\n",
    "                plt.xticks(np.arange(0, r+1, 7.0))\n",
    "\n",
    "            # Set color palette for the graph\n",
    "            # ~~~~~~~~~~~~~~~~~~~~~~~~~~~~~~~\n",
    "            palette = sns.color_palette(\"Paired\", n_colors=6)\n",
    "            palette_order = [1, 0, 3, 2, 5, 4]\n",
    "            palette = [palette[idx] for idx in palette_order]\n",
    "            hue_order = [850, 700]\n",
    "\n",
    "\n",
    "            # Create new df containing only data within plot range\n",
    "            # ~~~~~~~~~~~~~~~~~~~~~~~~~~~~~~~~~~~~~~~~~~~~~~~~~~~~\n",
    "            mask = (location['data']['Date'] >= str(d - timedelta(days=r))) & (location['data']['Date'] <= str(d))\n",
    "            plot_data = location['data'].loc[mask]\n",
    "            \n",
    "            # Calculate IQR for column Temp\n",
    "            # ~~~~~~~~~~~~~~~~~~~~~~~~~~~~~\n",
    "            Q1 = plot_data['Temp'].quantile(0.10)\n",
    "            Q3 = plot_data['Temp'].quantile(0.90)\n",
    "            IQR = Q3 - Q1\n",
    "\n",
    "            # Identify and remove outliers\n",
    "            # ~~~~~~~~~~~~~~~~~~~~~~~~~~~~\n",
    "            threshold = 1.5\n",
    "            outliers = plot_data[(plot_data['Temp'] < Q1 - threshold * IQR) | (plot_data['Temp'] > Q3 + threshold * IQR)]\n",
    "            plot_data = plot_data.drop(outliers.index)\n",
    "            \n",
    "            # Skip plot if there are no numerical values within the subset\n",
    "            # ~~~~~~~~~~~~~~~~~~~~~~~~~~~~~~~~~~~~~~~~~~~~~~~~~~~~~~~~~~~~\n",
    "            if plot_data.dropna(subset=['Temp']).empty:\n",
    "                print(\"COULD NOT GENERATE GRAPH\")\n",
    "                print(\"Location: {}\".format(location['name']))\n",
    "                print(\"Date: {}\".format(d))\n",
    "                print(\"Plot Range: {}\".format(r))\n",
    "                print(\"Data: {}\\n\".format(plot_data))\n",
    "                continue\n",
    "\n",
    "            # Plot graph\n",
    "            # ~~~~~~~~~~\n",
    "            try:\n",
    "                g = sns.lineplot(x='Date', y='Temp', hue='Pressure', data=plot_data, palette=palette[location['palette_order'][0]: location['palette_order'][1]], hue_order=hue_order)\n",
    "            except Exception as e:\n",
    "                print(e)\n",
    "                print(plot_data)\n",
    "\n",
    "            # Rename legend with detailed labels\n",
    "            # ~~~~~~~~~~~~~~~~~~~~~~~~~~~~~~~~~~\n",
    "            l = plt.legend()\n",
    "            labels = ['850', '700']\n",
    "            for x, label in enumerate(labels):\n",
    "                l.get_texts()[x].set_text(label)\n",
    "                \n",
    "            # Define save details\n",
    "            # ~~~~~~~~~~~~~~~~~~~\n",
    "            save_name = '{}_temp'.format(location['save_name'])\n",
    "            save_loc = \"./figures/temp/{}\".format(d.strftime(\"%Y-%m-%d\"))\n",
    "            if not os.path.isdir(save_loc):\n",
    "                os.makedirs(save_loc)\n",
    "                \n",
    "            # Publish graph to Google Cloud\n",
    "            # ~~~~~~~~~~~~~~~~~~~~~~~~~~~~~\n",
    "            bucket_name = 'weather_aurorabc'\n",
    "            bucket = storage_client.bucket(bucket_name)\n",
    "\n",
    "            buff = io.BytesIO()\n",
    "            plt.savefig(buff, format='webp',dpi=150, bbox_inches=\"tight\")\n",
    "\n",
    "            blob_name = 'graphs/{}/{}_{}d_{}.webp'.format(d.strftime(\"%Y-%m-%d\"), save_name, r, d.strftime(\"%Y-%m-%d\"))\n",
    "            blob = bucket.blob(blob_name)\n",
    "            blob.upload_from_string(buff.getvalue(), content_type='image/png')\n",
    "            plt.close()\n",
    "            del buff"
   ]
  },
  {
   "cell_type": "markdown",
   "id": "83df74d9",
   "metadata": {},
   "source": [
    "# Plot ALL Temps\n",
    "---\n",
    "Updated function to plot temperature graphs of varying data ranges for a range of dates for all locations on a single graph"
   ]
  },
  {
   "cell_type": "code",
   "execution_count": 229,
   "id": "af3989c6",
   "metadata": {},
   "outputs": [],
   "source": [
    "# -------------------------------------------------------------------------------\n",
    "# PLOT ALL TEMPS\n",
    "# Function to plot temps of ALL LOCATIONS for a range of dateranges\n",
    "# Saves graphs to Google Cloud Storage\n",
    "# -------------------------------------------------------------------------------\n",
    "def plot_all_temps(storage_client, locations, dates, plot_range):\n",
    "    \n",
    "    for d in dates:\n",
    "        for r in plot_range:\n",
    "            \n",
    "            # Set figure details\n",
    "            # ~~~~~~~~~~~~~~~~~~\n",
    "            plt.figure(figsize=(20,6))\n",
    "            plt.xlim([0, r -1])\n",
    "            plt.grid()\n",
    "            plt.axhline(0, color='black')\n",
    "            plt.xticks(rotation = 'vertical')\n",
    "            plt.title(\"Temperature °C - {} day\".format(r))\n",
    "            if r > 30:\n",
    "                plt.xticks(np.arange(0, r+1, 7.0))\n",
    "                \n",
    "            # Set color palette for the graph\n",
    "            # ~~~~~~~~~~~~~~~~~~~~~~~~~~~~~~~\n",
    "            palette = sns.color_palette(\"Paired\", n_colors=6)\n",
    "            palette_order = [1, 0, 3, 2, 5, 4]\n",
    "            palette = [palette[idx] for idx in palette_order]\n",
    "            hue_order = [850, 700]\n",
    "            \n",
    "            skip = False\n",
    "            \n",
    "            # Loop through each location and plot data on graph\n",
    "            # ~~~~~~~~~~~~~~~~~~~~~~~~~~~~~~~~~~~~~~~~~~~~~~~~~\n",
    "            \n",
    "            for location in locations:\n",
    "                if skip:\n",
    "                    continue\n",
    "                # Create truncated data object with only correct date range\n",
    "                # ~~~~~~~~~~~~~~~~~~~~~~~~~~~~~~~~~~~~~~~~~~~~~~~~~~~~~~~~~\n",
    "                mask = (location['data']['Date'] >= str(d - timedelta(days=r))) & (location['data']['Date'] <= str(d))\n",
    "                plot_data = location['data'].loc[mask]\n",
    "                \n",
    "                # Calculate IQR for column Temp\n",
    "                # ~~~~~~~~~~~~~~~~~~~~~~~~~~~~~\n",
    "                Q1 = plot_data['Temp'].quantile(0.10)\n",
    "                Q3 = plot_data['Temp'].quantile(0.90)\n",
    "                IQR = Q3 - Q1\n",
    "                \n",
    "                # Identify and remove outliers\n",
    "                # ~~~~~~~~~~~~~~~~~~~~~~~~~~~~\n",
    "                threshold = 1.5\n",
    "                outliers = plot_data[(plot_data['Temp'] < Q1 - threshold * IQR) | (plot_data['Temp'] > Q3 + threshold * IQR)]\n",
    "                plot_data = plot_data.drop(outliers.index)\n",
    "                \n",
    "                # Skip plot if there are no numerical values within the subset\n",
    "                # ~~~~~~~~~~~~~~~~~~~~~~~~~~~~~~~~~~~~~~~~~~~~~~~~~~~~~~~~~~~~\n",
    "                if plot_data.dropna(subset=['Temp']).empty:\n",
    "                    print(\"COULD NOT GENERATE GRAPH\")\n",
    "                    print(\"Location: {}\".format(location['name']))\n",
    "                    print(\"Date: {}\".format(d))\n",
    "                    print(\"Plot Range: {}\".format(r))\n",
    "                    print(\"Data: {}\\n\".format(plot_data))\n",
    "                    skip = True\n",
    "                    continue\n",
    "                \n",
    "\n",
    "                # Add data for single location to graph\n",
    "                # ~~~~~~~~~~~~~~~~~~~~~~~~~~~~~~~~~~~~~\n",
    "                g = sns.lineplot(x='Date', y='Temp', hue='Pressure', data=plot_data, palette=palette[location['palette_order'][0]: location['palette_order'][1]], hue_order=hue_order)\n",
    "                \n",
    "            \n",
    "            if not skip:\n",
    "                # Rename legend with detailed labels\n",
    "                # ~~~~~~~~~~~~~~~~~~~~~~~~~~~~~~~~~~\n",
    "                l = plt.legend()\n",
    "                labels = []\n",
    "                for location in locations:\n",
    "                    for pressure in [700, 850]:\n",
    "                        labels.append('{} {}'.format(location['name'], pressure))\n",
    "\n",
    "                labels = [labels[idx] for idx in palette_order]\n",
    "                for x, label in enumerate(labels):\n",
    "                    l.get_texts()[x].set_text(label)\n",
    "\n",
    "\n",
    "                # Generate Save Path\n",
    "                # ~~~~~~~~~~~~~~~~~~\n",
    "                save_name = 'all_temp'\n",
    "                save_loc = \"./figures/wind/{}\".format(d)\n",
    "                if not os.path.isdir(save_loc):\n",
    "                    os.makedirs(save_loc)\n",
    "\n",
    "\n",
    "                # Publish graph to Google Cloud\n",
    "                # ~~~~~~~~~~~~~~~~~~~~~~~~~~~~~\n",
    "                bucket_name = 'weather_aurorabc'\n",
    "                bucket = storage_client.bucket(bucket_name)\n",
    "\n",
    "                buff = io.BytesIO()\n",
    "                plt.savefig(buff, format='webp',dpi=150, bbox_inches=\"tight\")\n",
    "\n",
    "                blob_name = 'graphs/{}/{}_{}d_{}.webp'.format(d.strftime(\"%Y-%m-%d\"), save_name, r, d.strftime(\"%Y-%m-%d\"))\n",
    "                blob = bucket.blob(blob_name)\n",
    "                blob.upload_from_string(buff.getvalue(), content_type='image/png')\n",
    "                plt.close()\n",
    "                del buff"
   ]
  },
  {
   "cell_type": "markdown",
   "id": "f1b5999b",
   "metadata": {},
   "source": [
    "# Plot Wind\n",
    "---\n",
    "Updated function to plot wind graphs of varying data ranges for a range of dates for individual locations"
   ]
  },
  {
   "cell_type": "code",
   "execution_count": 230,
   "id": "2a70ed6e",
   "metadata": {},
   "outputs": [],
   "source": [
    "# -------------------------------------------------------------------------------\n",
    "# PLOT WIND\n",
    "# Function to plot wind of a SINGLE LOCATION for a range of dateranges\n",
    "# Saves graphs to Google Cloud Storage\n",
    "# -------------------------------------------------------------------------------\n",
    "def plot_wind(storage_client, location, dates, plot_range):\n",
    "    \n",
    "    # Define color map and truncate to apropriate range\n",
    "    cmap = cm.viridis_r\n",
    "    cmap = truncate_colormap(cmap, minval=0, maxval=0.9)\n",
    "    \n",
    "    for d in dates:\n",
    "        for r in plot_range:\n",
    "            \n",
    "            # Create new df containing only data within plot range\n",
    "            # ~~~~~~~~~~~~~~~~~~~~~~~~~~~~~~~~~~~~~~~~~~~~~~~~~~~~\n",
    "            mask = (location['data']['Date'] >= str(d - timedelta(days=r))) & (location['data']['Date'] <= str(d))\n",
    "            plot_data = location['data'].loc[mask]\n",
    "            \n",
    "            # Calculate IQR for column Temp\n",
    "            # ~~~~~~~~~~~~~~~~~~~~~~~~~~~~~\n",
    "            Q1 = plot_data['Wind_Speed'].quantile(0.05)\n",
    "            Q3 = plot_data['Wind_Speed'].quantile(0.95)\n",
    "            IQR = Q3 - Q1\n",
    "\n",
    "            # Identify and remove outliers\n",
    "            # ~~~~~~~~~~~~~~~~~~~~~~~~~~~~\n",
    "            threshold = 1.5\n",
    "            outliers = plot_data[(plot_data['Wind_Speed'] < Q1 - threshold * IQR) | (plot_data['Wind_Speed'] > Q3 + threshold * IQR)]\n",
    "            plot_data = plot_data.drop(outliers.index)\n",
    "            plot_data = plot_data.dropna(subset=['Wind_Speed'])\n",
    "            \n",
    "            # Skip plot if there are no numerical values within the subset\n",
    "            # ~~~~~~~~~~~~~~~~~~~~~~~~~~~~~~~~~~~~~~~~~~~~~~~~~~~~~~~~~~~~\n",
    "            if plot_data.empty:\n",
    "                print(\"COULD NOT GENERATE GRAPH\")\n",
    "                print(\"Location: {}\".format(location['name']))\n",
    "                print(\"Date: {}\".format(d))\n",
    "                print(\"Plot Range: {}\".format(r))\n",
    "                print(\"Data: {}\\n\".format(plot_data))\n",
    "                continue\n",
    "                \n",
    "            # Populate speed and direction vars from DataFrame\n",
    "            # ~~~~~~~~~~~~~~~~~~~~~~~~~~~~~~~~~~~~~~~~~~~~~~~~  \n",
    "            wd = plot_data['Wind_Direction'].to_list()\n",
    "            ws = plot_data['Wind_Speed'].to_list()\n",
    "\n",
    "\n",
    "            # Plot wind rose for data set\n",
    "            # ~~~~~~~~~~~~~~~~~~~~~~~~~~~\n",
    "            ax = WindroseAxes.from_ax()\n",
    "            ax.contourf(wd, ws, bins=np.arange(0, 110, 10), cmap=cmap)\n",
    "            #ax.contourf(wd, ws, cmap=cmap)\n",
    "            ax.set_legend()\n",
    "            \n",
    "            # Save figure\n",
    "            # ~~~~~~~~~~~\n",
    "            plt.title(\"{} Wind - {} day\".format(location['name'], r))\n",
    "            plt.legend(title=\"Wind Speed (km/h)\", loc=4, fontsize='small', fancybox=True)\n",
    "            plt.tick_params(left = False, right = False , labelleft = False , \n",
    "                labelbottom = False, bottom = False) \n",
    "            \n",
    "            # Generate Save Path\n",
    "            # ~~~~~~~~~~~~~~~~~~\n",
    "            save_name = '{}_wind'.format(location['name'].lower().replace(' ', ''))\n",
    "            save_loc = \"./figures/wind/{}\".format(d)\n",
    "            \n",
    "            if not os.path.isdir(save_loc):\n",
    "                os.makedirs(save_loc)\n",
    "\n",
    "            # Save image as webp\n",
    "            # ~~~~~~~~~~~~~~~~~~\n",
    "            path = '{}/{}_{}d_{}'.format(save_loc, save_name, r, d)\n",
    "            plt.savefig('{}.webp'.format(path), format='webp',dpi=150)\n",
    "            \n",
    "            # Publish graph to Google Cloud\n",
    "            # ~~~~~~~~~~~~~~~~~~~~~~~~~~~~~\n",
    "            bucket_name = 'weather_aurorabc'\n",
    "            bucket = storage_client.bucket(bucket_name)\n",
    "\n",
    "            buff = io.BytesIO()\n",
    "            plt.savefig(buff, format='webp',dpi=150, bbox_inches=\"tight\")\n",
    "\n",
    "            blob_name = 'graphs/{}/{}_{}d_{}.webp'.format(d, save_name, r, d)\n",
    "            blob = bucket.blob(blob_name)\n",
    "            blob.upload_from_string(buff.getvalue(), content_type='image/png')\n",
    "            plt.close()\n",
    "            del buff"
   ]
  },
  {
   "cell_type": "markdown",
   "id": "7ae1ea1e",
   "metadata": {},
   "source": [
    "# Plot Wind Loading\n",
    "---\n",
    "Plot the wind loading that has occurred on slope aspects"
   ]
  },
  {
   "cell_type": "code",
   "execution_count": 231,
   "id": "ebfa8a6b",
   "metadata": {},
   "outputs": [],
   "source": [
    "# -------------------------------------------------------------------------------\n",
    "# PLOT WIND LOADING\n",
    "# Function to plot windloading of a SINGLE LOCATION for a range of dateranges\n",
    "# Combines each graph into a single GIF\n",
    "# Saves GIF to Google Cloud Storage\n",
    "# -------------------------------------------------------------------------------\n",
    "def plot_wind_loading(storage_client, location, dates, plot_range):\n",
    "    \n",
    "    # Define color map and truncate to apropriate range\n",
    "    cmap = cm.viridis_r\n",
    "    cmap = truncate_colormap(cmap, minval=0, maxval=0.9)\n",
    "    \n",
    "    for d in dates:\n",
    "        images = []\n",
    "        for r in plot_range:\n",
    "            \n",
    "            # Create new df containing only data within plot range\n",
    "            # ~~~~~~~~~~~~~~~~~~~~~~~~~~~~~~~~~~~~~~~~~~~~~~~~~~~~\n",
    "            mask = (location['data']['Date'] >= str(d - timedelta(days=r))) & (location['data']['Date'] <= str(d))\n",
    "            plot_data = location['data'].loc[mask]\n",
    "            \n",
    "            # Calculate IQR for column Temp\n",
    "            # ~~~~~~~~~~~~~~~~~~~~~~~~~~~~~\n",
    "            Q1 = plot_data['Wind_Speed'].quantile(0.05)\n",
    "            Q3 = plot_data['Wind_Speed'].quantile(0.95)\n",
    "            IQR = Q3 - Q1\n",
    "\n",
    "            # Identify and remove outliers\n",
    "            # ~~~~~~~~~~~~~~~~~~~~~~~~~~~~\n",
    "            threshold = 1.5\n",
    "            outliers = plot_data[(plot_data['Wind_Speed'] < Q1 - threshold * IQR) | (plot_data['Wind_Speed'] > Q3 + threshold * IQR)]\n",
    "            plot_data = plot_data.drop(outliers.index)\n",
    "            plot_data = plot_data.dropna(subset=['Wind_Speed'])\n",
    "            plot_data['Wind_Direction'] = plot_data['Wind_Direction'].apply(lambda x: (x+180)%360)\n",
    "            \n",
    "            # Skip plot if there are no numerical values within the subset\n",
    "            # ~~~~~~~~~~~~~~~~~~~~~~~~~~~~~~~~~~~~~~~~~~~~~~~~~~~~~~~~~~~~\n",
    "            if plot_data.empty:\n",
    "                print(\"COULD NOT GENERATE GRAPH\")\n",
    "                print(\"Location: {}\".format(location['name']))\n",
    "                print(\"Date: {}\".format(d))\n",
    "                print(\"Plot Range: {}\".format(r))\n",
    "                print(\"Data: {}\\n\".format(plot_data))\n",
    "                continue\n",
    "                \n",
    "            # Populate speed and direction vars from DataFrame\n",
    "            # ~~~~~~~~~~~~~~~~~~~~~~~~~~~~~~~~~~~~~~~~~~~~~~~~  \n",
    "            wd = plot_data['Wind_Direction'].to_list()\n",
    "            ws = plot_data['Wind_Speed'].to_list()\n",
    "\n",
    "\n",
    "            # Plot wind rose for data set\n",
    "            # ~~~~~~~~~~~~~~~~~~~~~~~~~~~\n",
    "            ax = WindroseAxes.from_ax()\n",
    "            ax.contourf(wd, ws, bins=np.arange(0, 110, 10), cmap=cmap)\n",
    "            #ax.contourf(wd, ws, cmap=cmap)\n",
    "            ax.set_legend()\n",
    "            \n",
    "            # Save figure\n",
    "            # ~~~~~~~~~~~\n",
    "            plt.title(\"{} Wind Loading - {} day\".format(location['name'], r))\n",
    "            plt.legend(title=\"Wind Speed (km/h)\", loc=4, fontsize='small', fancybox=True)\n",
    "            \n",
    "            # Generate Save Path\n",
    "            # ~~~~~~~~~~~~~~~~~~\n",
    "            save_name = '{}_windloading'.format(location['name'].lower().replace(' ', ''))\n",
    "            save_loc = \"./figures/wind/{}\".format(d)\n",
    "            \n",
    "            if not os.path.isdir(save_loc):\n",
    "                os.makedirs(save_loc)\n",
    "\n",
    "            # Save image as webp\n",
    "            # ~~~~~~~~~~~~~~~~~~\n",
    "            path = '{}/{}_{}d_{}'.format(save_loc, save_name, r, d)\n",
    "            plt.savefig('{}.webp'.format(path), format='webp',dpi=150)\n",
    "            plt.tick_params(left = False, right = False , labelleft = False , \n",
    "                labelbottom = False, bottom = False) \n",
    "            \n",
    "            # Publish graph to Google Cloud\n",
    "            # ~~~~~~~~~~~~~~~~~~~~~~~~~~~~~\n",
    "            bucket_name = 'weather_aurorabc'\n",
    "            bucket = storage_client.bucket(bucket_name)\n",
    "\n",
    "            buff = io.BytesIO()\n",
    "            plt.savefig(buff, format='webp',dpi=150, bbox_inches=\"tight\")\n",
    "            images.append(Image.open(buff))\n",
    "\n",
    "            #blob_name = 'graphs/{}/{}_{}d_{}.webp'.format(d, save_name, r, d)\n",
    "            #blob = bucket.blob(blob_name)\n",
    "            #blob.upload_from_string(buff.getvalue(), content_type='image/webp')\n",
    "            plt.close()\n",
    "            del buff\n",
    "            \n",
    "            \n",
    "        def update_img(i):\n",
    "            im.set_array(images[i])\n",
    "            return im, \n",
    "            \n",
    "        # Generate Save Path\n",
    "        # ~~~~~~~~~~~~~~~~~~\n",
    "        save_name = '{}_windloading'.format(location['name'].lower().replace(' ', ''))\n",
    "        save_loc = \"./figures/wind/{}\".format(d)\n",
    "        if not os.path.isdir(save_loc):\n",
    "            os.makedirs(save_loc)\n",
    "            \n",
    "            \n",
    "        # Create the figure and axes objects\n",
    "        fig, ax = plt.subplots()\n",
    "\n",
    "        # Set the initial image\n",
    "        im = ax.imshow(images[0], animated=True)\n",
    "\n",
    "        # Create the animation object\n",
    "        animation_fig = animation.FuncAnimation(fig, update_img, frames=len(images), interval=200, blit=False,repeat_delay=10)\n",
    "        \n",
    "        # Remove unecessary axis\n",
    "        plt.tick_params(left = False, right = False , labelleft = False , \n",
    "                labelbottom = False, bottom = False) \n",
    "        for pos in ['right', 'top', 'bottom', 'left']: \n",
    "            plt.gca().spines[pos].set_visible(False) \n",
    "        \n",
    "        # Show the animation\n",
    "        #plt.show()\n",
    "        #animation_fig.save('{}/{}.gif'.format(save_loc, save_name))\n",
    "        animation_fig.save('/tmp/{}_{}.gif'.format(save_name, d),bitrate=10)\n",
    "        \n",
    "        # Publish graph to Google Cloud\n",
    "        # ~~~~~~~~~~~~~~~~~~~~~~~~~~~~~\n",
    "        bucket_name = 'weather_aurorabc'\n",
    "        bucket = storage_client.bucket(bucket_name)\n",
    "        \n",
    "        \n",
    "        blob_name = 'graphs/{}/{}_{}.gif'.format(d, save_name, d)\n",
    "        blob = bucket.blob(blob_name)\n",
    "        blob.upload_from_filename('/tmp/{}_{}.gif'.format(save_name, d), content_type='image/gif')\n",
    "        plt.close()    "
   ]
  },
  {
   "cell_type": "code",
   "execution_count": null,
   "id": "b81db7f2",
   "metadata": {},
   "outputs": [],
   "source": []
  },
  {
   "cell_type": "markdown",
   "id": "caad2297",
   "metadata": {},
   "source": [
    "### Main Application Body"
   ]
  },
  {
   "cell_type": "code",
   "execution_count": 232,
   "id": "c9d20ad2",
   "metadata": {},
   "outputs": [],
   "source": [
    "# ~~~~~~~~~~~~~~~~~~~~~~~~~~~~~~~~~~~~~~~~~~~~~~~~~~~~~~~~~~~~~~~~~~~~~~\n",
    "#  + + + + + + + + + + + + + + + + + + + + + + + + + + + + + + + + + + + \n",
    "# ----- ----- ----- -----          START         ----- ----- ----- -----\n",
    "#  + + + + + + + + + + + + + + + + + + + + + + + + + + + + + + + + + + + \n",
    "# ~~~~~~~~~~~~~~~~~~~~~~~~~~~~~~~~~~~~~~~~~~~~~~~~~~~~~~~~~~~~~~~~~~~~~~\n",
    "#@functions_framework.cloud_event\n",
    "def main():\n",
    "    # Collect weather data\n",
    "    # ~~~~~~~~~~~~~~~~~~~~\n",
    "    storage_client = storage.Client()\n",
    "    weather_data = import_weather_data(storage_client)        \n",
    "    \n",
    "    # Define location specific params\n",
    "    # ~~~~~~~~~~~~~~~~~~~~~~~~~~~~~~~\n",
    "    locations = [{\n",
    "            'name': \"Vernon\",\n",
    "            'palette_order': [2, 4], # green\n",
    "            'save_name': \"vernon\",\n",
    "            'data': weather_data[weather_data['Station'] == \"Vernon\"]\n",
    "        },\n",
    "        {\n",
    "            'name': \"Port Hardy\",\n",
    "            'palette_order': [4, 6], # red\n",
    "            'save_name': \"porthardy\",\n",
    "            'data': weather_data[weather_data['Station'] == \"Port Hardy\"]\n",
    "        },\n",
    "        {\n",
    "            'name': \"Quillayute\",\n",
    "            'palette_order': [0, 2], # blue\n",
    "            'save_name': \"quillayute\",\n",
    "            'data': weather_data[weather_data['Station'] == \"Quillayute\"]\n",
    "        }]\n",
    "    \n",
    "    # Define plot ranges\n",
    "    # ~~~~~~~~~~~~~~~~~~\n",
    "    temp_plot_range = [5, 10, 20, 30, 60, 90, 180]\n",
    "    wind_plot_range = list(range(1, 21))\n",
    "    \n",
    "    # Generate list of dates to plot graphs for\n",
    "    # ~~~~~~~~~~~~~~~~~~~~~~~~~~~~~~~~~~~~~~~~~\n",
    "    dates = find_missing_plots(storage_client, [loc['save_name'] for loc in locations], temp_plot_range, wind_plot_range)\n",
    "    dates.append(datetime.today(pytz.timezone(\"America/Vancouver\")).date())\n",
    "    dates.reverse()\n",
    "    #dates = [datetime.today().date()]\n",
    "    \n",
    "    with alive_bar(len(dates), force_tty=True) as bar:\n",
    "        for date in dates:\n",
    "            print('{} --------------------'.format(date))\n",
    "            print(\"Plotting ALL Temps\")\n",
    "            plot_all_temps(storage_client, locations, [date], temp_plot_range)\n",
    "\n",
    "            for location in locations:\n",
    "                \n",
    "                print(\"Plotting Wind: {}\".format(location['name']))\n",
    "                plot_wind(storage_client, location, [date], wind_plot_range)\n",
    "                \n",
    "                print(\"Plotting Wind Loading: {}\".format(location['name']))\n",
    "                plot_wind_loading(storage_client, location, [date], wind_plot_range)\n",
    "\n",
    "                print(\"Plotting Temp: {}\\n\".format(location['name']))\n",
    "                plot_temps(storage_client, location, [date], temp_plot_range)\n",
    "                \n",
    "                \n",
    "            bar()\n",
    "        \n",
    "    \n",
    "# ~~~~~~~~~~~~~~~~~~~~~~~~~~~~~~~~~~~~~~~~~~~~~~~~~~~~~~~~~~~~~~~~~~~~~~\n",
    "#  + + + + + + + + + + + + + + + + + + + + + + + + + + + + + + + + + + + \n",
    "# ----- ----- ----- -----           END          ----- ----- ----- -----\n",
    "#  + + + + + + + + + + + + + + + + + + + + + + + + + + + + + + + + + + + \n",
    "# ~~~~~~~~~~~~~~~~~~~~~~~~~~~~~~~~~~~~~~~~~~~~~~~~~~~~~~~~~~~~~~~~~~~~~~"
   ]
  },
  {
   "cell_type": "code",
   "execution_count": 233,
   "id": "b9cd31d1",
   "metadata": {
    "scrolled": true
   },
   "outputs": [
    {
     "name": "stdout",
     "output_type": "stream",
     "text": [
      "Scanning for missing graphs...\n",
      "on 0: 2023-12-05 --------------------                                                                                   \n",
      "on 0: Plotting ALL Temps                                                                                                \n",
      "on 0: Plotting Wind: Vernon                                                                                             \n",
      "on 0: Plotting Wind Loading: Vernon                                                                                     \n",
      "                                                                                                                        \r"
     ]
    },
    {
     "name": "stderr",
     "output_type": "stream",
     "text": [
      "on 0: MovieWriter ffmpeg unavailable; using Pillow instead.\n"
     ]
    },
    {
     "name": "stdout",
     "output_type": "stream",
     "text": [
      "on 0: Plotting Temp: Vernon                                                                                             \n",
      "on 0: Plotting Wind: Port Hardy                                                                                         \n",
      "on 0: Plotting Wind Loading: Port Hardy                                                                                 \n",
      "                                                                                                                        \r"
     ]
    },
    {
     "name": "stderr",
     "output_type": "stream",
     "text": [
      "on 0: MovieWriter ffmpeg unavailable; using Pillow instead.\n"
     ]
    },
    {
     "name": "stdout",
     "output_type": "stream",
     "text": [
      "on 0: Plotting Temp: Port Hardy                                                                                         \n",
      "on 0: Plotting Wind: Quillayute                                                                                         \n",
      "on 0: Plotting Wind Loading: Quillayute                                                                                 \n",
      "                                                                                                                        \r"
     ]
    },
    {
     "name": "stderr",
     "output_type": "stream",
     "text": [
      "on 0: MovieWriter ffmpeg unavailable; using Pillow instead.\n"
     ]
    },
    {
     "name": "stdout",
     "output_type": "stream",
     "text": [
      "on 0: Plotting Temp: Quillayute                                                                                         \n",
      "on 1: 2023-09-24 --------------------                                                                                   \n",
      "on 1: Plotting ALL Temps                                                                                                \n",
      "on 1: Plotting Wind: Vernon                                                                                             \n",
      "on 1: Plotting Wind Loading: Vernon                                                                                     \n",
      "                                                                                                                        \r"
     ]
    },
    {
     "name": "stderr",
     "output_type": "stream",
     "text": [
      "on 1: MovieWriter ffmpeg unavailable; using Pillow instead.\n"
     ]
    },
    {
     "name": "stdout",
     "output_type": "stream",
     "text": [
      "on 1: Plotting Temp: Vernon                                                                                             \n",
      "on 1: Plotting Wind: Port Hardy                                                                                         \n",
      "on 1: Plotting Wind Loading: Port Hardy                                                                                 \n",
      "                                                                                                                        \r"
     ]
    },
    {
     "name": "stderr",
     "output_type": "stream",
     "text": [
      "on 1: MovieWriter ffmpeg unavailable; using Pillow instead.\n"
     ]
    },
    {
     "name": "stdout",
     "output_type": "stream",
     "text": [
      "on 1: Plotting Temp: Port Hardy                                                                                         \n",
      "on 1: Plotting Wind: Quillayute                                                                                         \n",
      "on 1: Plotting Wind Loading: Quillayute                                                                                 \n",
      "                                                                                                                        \r"
     ]
    },
    {
     "name": "stderr",
     "output_type": "stream",
     "text": [
      "on 1: MovieWriter ffmpeg unavailable; using Pillow instead.\n"
     ]
    },
    {
     "name": "stdout",
     "output_type": "stream",
     "text": [
      "on 1: Plotting Temp: Quillayute                                                                                         \n",
      "on 2: 2023-09-24 --------------------                                                                                   \n",
      "on 2: Plotting ALL Temps                                                                                                \n",
      "on 2: Plotting Wind: Vernon                                                                                             \n",
      "on 2: Plotting Wind Loading: Vernon                                                                                     \n",
      "                                                                                                                        \r"
     ]
    },
    {
     "name": "stderr",
     "output_type": "stream",
     "text": [
      "on 2: MovieWriter ffmpeg unavailable; using Pillow instead.\n"
     ]
    },
    {
     "name": "stdout",
     "output_type": "stream",
     "text": [
      "on 2: Plotting Temp: Vernon                                                                                             \n",
      "on 2: Plotting Wind: Port Hardy                                                                                         \n",
      "on 2: Plotting Wind Loading: Port Hardy                                                                                 \n",
      "                                                                                                                        \r"
     ]
    },
    {
     "name": "stderr",
     "output_type": "stream",
     "text": [
      "on 2: MovieWriter ffmpeg unavailable; using Pillow instead.\n"
     ]
    },
    {
     "name": "stdout",
     "output_type": "stream",
     "text": [
      "on 2: Plotting Temp: Port Hardy                                                                                         \n",
      "on 2: Plotting Wind: Quillayute                                                                                         \n",
      "on 2: Plotting Wind Loading: Quillayute                                                                                 \n",
      "                                                                                                                        \r"
     ]
    },
    {
     "name": "stderr",
     "output_type": "stream",
     "text": [
      "on 2: MovieWriter ffmpeg unavailable; using Pillow instead.\n"
     ]
    },
    {
     "name": "stdout",
     "output_type": "stream",
     "text": [
      "on 2: Plotting Temp: Quillayute                                                                                         \n",
      "on 3: 2023-09-23 --------------------                                                                                   \n",
      "on 3: Plotting ALL Temps                                                                                                \n",
      "on 3: Plotting Wind: Vernon                                                                                             \n",
      "on 3: Plotting Wind Loading: Vernon                                                                                     \n",
      "                                                                                                                        \r"
     ]
    },
    {
     "name": "stderr",
     "output_type": "stream",
     "text": [
      "on 3: MovieWriter ffmpeg unavailable; using Pillow instead.\n"
     ]
    },
    {
     "name": "stdout",
     "output_type": "stream",
     "text": [
      "on 3: Plotting Temp: Vernon                                                                                             \n",
      "on 3: Plotting Wind: Port Hardy                                                                                         \n",
      "on 3: Plotting Wind Loading: Port Hardy                                                                                 \n",
      "                                                                                                                        \r"
     ]
    },
    {
     "name": "stderr",
     "output_type": "stream",
     "text": [
      "on 3: MovieWriter ffmpeg unavailable; using Pillow instead.\n"
     ]
    },
    {
     "name": "stdout",
     "output_type": "stream",
     "text": [
      "on 3: Plotting Temp: Port Hardy                                                                                         \n",
      "on 3: Plotting Wind: Quillayute                                                                                         \n",
      "on 3: Plotting Wind Loading: Quillayute                                                                                 \n",
      "                                                                                                                        \r"
     ]
    },
    {
     "name": "stderr",
     "output_type": "stream",
     "text": [
      "on 3: MovieWriter ffmpeg unavailable; using Pillow instead.\n"
     ]
    },
    {
     "name": "stdout",
     "output_type": "stream",
     "text": [
      "on 3: Plotting Temp: Quillayute                                                                                         \n",
      "on 4: 2023-09-23 --------------------                                                                                   \n",
      "on 4: Plotting ALL Temps                                                                                                \n",
      "on 4: Plotting Wind: Vernon                                                                                             \n",
      "on 4: Plotting Wind Loading: Vernon                                                                                     \n",
      "                                                                                                                        \r"
     ]
    },
    {
     "name": "stderr",
     "output_type": "stream",
     "text": [
      "on 4: MovieWriter ffmpeg unavailable; using Pillow instead.\n"
     ]
    },
    {
     "name": "stdout",
     "output_type": "stream",
     "text": [
      "on 4: Plotting Temp: Vernon                                                                                             \n",
      "on 4: Plotting Wind: Port Hardy                                                                                         \n",
      "on 4: Plotting Wind Loading: Port Hardy                                                                                 \n",
      "                                                                                                                        \r"
     ]
    },
    {
     "name": "stderr",
     "output_type": "stream",
     "text": [
      "on 4: MovieWriter ffmpeg unavailable; using Pillow instead.\n"
     ]
    },
    {
     "name": "stdout",
     "output_type": "stream",
     "text": [
      "on 4: Plotting Temp: Port Hardy                                                                                         \n",
      "on 4: Plotting Wind: Quillayute                                                                                         \n",
      "on 4: Plotting Wind Loading: Quillayute                                                                                 \n",
      "                                                                                                                        \r"
     ]
    },
    {
     "name": "stderr",
     "output_type": "stream",
     "text": [
      "on 4: MovieWriter ffmpeg unavailable; using Pillow instead.\n"
     ]
    },
    {
     "name": "stdout",
     "output_type": "stream",
     "text": [
      "on 4: Plotting Temp: Quillayute                                                                                         \n",
      "on 5: 2023-09-22 --------------------                                                                                   \n",
      "on 5: Plotting ALL Temps                                                                                                \n",
      "on 5: Plotting Wind: Vernon                                                                                             \n",
      "on 5: Plotting Wind Loading: Vernon                                                                                     \n",
      "                                                                                                                        \r"
     ]
    },
    {
     "name": "stderr",
     "output_type": "stream",
     "text": [
      "on 5: MovieWriter ffmpeg unavailable; using Pillow instead.\n"
     ]
    },
    {
     "name": "stdout",
     "output_type": "stream",
     "text": [
      "on 5: Plotting Temp: Vernon                                                                                             \n",
      "on 5: Plotting Wind: Port Hardy                                                                                         \n",
      "on 5: Plotting Wind Loading: Port Hardy                                                                                 \n",
      "                                                                                                                        \r"
     ]
    },
    {
     "name": "stderr",
     "output_type": "stream",
     "text": [
      "on 5: MovieWriter ffmpeg unavailable; using Pillow instead.\n"
     ]
    },
    {
     "name": "stdout",
     "output_type": "stream",
     "text": [
      "on 5: Plotting Temp: Port Hardy                                                                                         \n",
      "on 5: Plotting Wind: Quillayute                                                                                         \n",
      "on 5: Plotting Wind Loading: Quillayute                                                                                 \n",
      "                                                                                                                        \r"
     ]
    },
    {
     "name": "stderr",
     "output_type": "stream",
     "text": [
      "on 5: MovieWriter ffmpeg unavailable; using Pillow instead.\n"
     ]
    },
    {
     "name": "stdout",
     "output_type": "stream",
     "text": [
      "on 5: Plotting Temp: Quillayute                                                                                         \n",
      "on 6: 2023-09-22 --------------------                                                                                   \n",
      "on 6: Plotting ALL Temps                                                                                                \n",
      "on 6: Plotting Wind: Vernon                                                                                             \n",
      "on 6: Plotting Wind Loading: Vernon                                                                                     \n",
      "                                                                                                                        \r"
     ]
    },
    {
     "name": "stderr",
     "output_type": "stream",
     "text": [
      "on 6: MovieWriter ffmpeg unavailable; using Pillow instead.\n"
     ]
    },
    {
     "name": "stdout",
     "output_type": "stream",
     "text": [
      "on 6: Plotting Temp: Vernon                                                                                             \n",
      "on 6: Plotting Wind: Port Hardy                                                                                         \n",
      "on 6: Plotting Wind Loading: Port Hardy                                                                                 \n",
      "                                                                                                                        \r"
     ]
    },
    {
     "name": "stderr",
     "output_type": "stream",
     "text": [
      "on 6: MovieWriter ffmpeg unavailable; using Pillow instead.\n"
     ]
    },
    {
     "name": "stdout",
     "output_type": "stream",
     "text": [
      "on 6: Plotting Temp: Port Hardy                                                                                         \n",
      "on 6: Plotting Wind: Quillayute                                                                                         \n",
      "on 6: Plotting Wind Loading: Quillayute                                                                                 \n",
      "                                                                                                                        \r"
     ]
    },
    {
     "name": "stderr",
     "output_type": "stream",
     "text": [
      "on 6: MovieWriter ffmpeg unavailable; using Pillow instead.\n"
     ]
    },
    {
     "name": "stdout",
     "output_type": "stream",
     "text": [
      "on 6: Plotting Temp: Quillayute                                                                                         \n",
      "on 7: 2023-09-18 --------------------                                                                                   \n",
      "on 7: Plotting ALL Temps                                                                                                \n",
      "on 7: Plotting Wind: Vernon                                                                                             \n",
      "on 7: Plotting Wind Loading: Vernon                                                                                     \n",
      "                                                                                                                        \r"
     ]
    },
    {
     "name": "stderr",
     "output_type": "stream",
     "text": [
      "on 7: MovieWriter ffmpeg unavailable; using Pillow instead.\n"
     ]
    },
    {
     "name": "stdout",
     "output_type": "stream",
     "text": [
      "on 7: Plotting Temp: Vernon                                                                                             \n",
      "on 7: Plotting Wind: Port Hardy                                                                                         \n",
      "on 7: Plotting Wind Loading: Port Hardy                                                                                 \n",
      "                                                                                                                        \r"
     ]
    },
    {
     "name": "stderr",
     "output_type": "stream",
     "text": [
      "on 7: MovieWriter ffmpeg unavailable; using Pillow instead.\n"
     ]
    },
    {
     "name": "stdout",
     "output_type": "stream",
     "text": [
      "on 7: Plotting Temp: Port Hardy                                                                                         \n",
      "on 7: Plotting Wind: Quillayute                                                                                         \n",
      "on 7: Plotting Wind Loading: Quillayute                                                                                 \n",
      "                                                                                                                        \r"
     ]
    },
    {
     "name": "stderr",
     "output_type": "stream",
     "text": [
      "on 7: MovieWriter ffmpeg unavailable; using Pillow instead.\n"
     ]
    },
    {
     "name": "stdout",
     "output_type": "stream",
     "text": [
      "on 7: Plotting Temp: Quillayute                                                                                         \n",
      "on 8: 2023-09-18 --------------------                                                                                   \n",
      "on 8: Plotting ALL Temps                                                                                                \n",
      "on 8: Plotting Wind: Vernon                                                                                             \n",
      "on 8: Plotting Wind Loading: Vernon                                                                                     \n",
      "                                                                                                                        \r"
     ]
    },
    {
     "name": "stderr",
     "output_type": "stream",
     "text": [
      "on 8: MovieWriter ffmpeg unavailable; using Pillow instead.\n"
     ]
    },
    {
     "name": "stdout",
     "output_type": "stream",
     "text": [
      "on 8: Plotting Temp: Vernon                                                                                             \n",
      "on 8: Plotting Wind: Port Hardy                                                                                         \n",
      "on 8: Plotting Wind Loading: Port Hardy                                                                                 \n",
      "                                                                                                                        \r"
     ]
    },
    {
     "name": "stderr",
     "output_type": "stream",
     "text": [
      "on 8: MovieWriter ffmpeg unavailable; using Pillow instead.\n"
     ]
    },
    {
     "name": "stdout",
     "output_type": "stream",
     "text": [
      "on 8: Plotting Temp: Port Hardy                                                                                         \n",
      "on 8: Plotting Wind: Quillayute                                                                                         \n",
      "on 8: Plotting Wind Loading: Quillayute                                                                                 \n",
      "                                                                                                                        \r"
     ]
    },
    {
     "name": "stderr",
     "output_type": "stream",
     "text": [
      "on 8: MovieWriter ffmpeg unavailable; using Pillow instead.\n"
     ]
    },
    {
     "name": "stdout",
     "output_type": "stream",
     "text": [
      "on 8: Plotting Temp: Quillayute                                                                                         \n",
      "on 9: 2023-09-17 --------------------                                                                                   \n",
      "on 9: Plotting ALL Temps                                                                                                \n",
      "on 9: Plotting Wind: Vernon                                                                                             \n",
      "on 9: Plotting Wind Loading: Vernon                                                                                     \n",
      "                                                                                                                        \r"
     ]
    },
    {
     "name": "stderr",
     "output_type": "stream",
     "text": [
      "on 9: MovieWriter ffmpeg unavailable; using Pillow instead.\n"
     ]
    },
    {
     "name": "stdout",
     "output_type": "stream",
     "text": [
      "on 9: Plotting Temp: Vernon                                                                                             \n",
      "on 9: Plotting Wind: Port Hardy                                                                                         \n",
      "on 9: Plotting Wind Loading: Port Hardy                                                                                 \n",
      "                                                                                                                        \r"
     ]
    },
    {
     "name": "stderr",
     "output_type": "stream",
     "text": [
      "on 9: MovieWriter ffmpeg unavailable; using Pillow instead.\n"
     ]
    },
    {
     "name": "stdout",
     "output_type": "stream",
     "text": [
      "on 9: Plotting Temp: Port Hardy                                                                                         \n",
      "on 9: Plotting Wind: Quillayute                                                                                         \n",
      "on 9: Plotting Wind Loading: Quillayute                                                                                 \n",
      "                                                                                                                        \r"
     ]
    },
    {
     "name": "stderr",
     "output_type": "stream",
     "text": [
      "on 9: MovieWriter ffmpeg unavailable; using Pillow instead.\n"
     ]
    },
    {
     "name": "stdout",
     "output_type": "stream",
     "text": [
      "on 9: Plotting Temp: Quillayute                                                                                         \n",
      "on 10: 2023-09-17 --------------------                                                                                  \n",
      "on 10: Plotting ALL Temps                                                                                               \n",
      "on 10: Plotting Wind: Vernon                                                                                            \n",
      "on 10: Plotting Wind Loading: Vernon                                                                                    \n",
      "                                                                                                                        \r"
     ]
    },
    {
     "name": "stderr",
     "output_type": "stream",
     "text": [
      "on 10: MovieWriter ffmpeg unavailable; using Pillow instead.\n"
     ]
    },
    {
     "name": "stdout",
     "output_type": "stream",
     "text": [
      "on 10: Plotting Temp: Vernon                                                                                            \n",
      "on 10: Plotting Wind: Port Hardy                                                                                        \n",
      "|████████████▏⚠︎                          | (!) 10/33 [30%] in 18:10.4 (0.01/s)                                          \n"
     ]
    },
    {
     "ename": "ServiceUnavailable",
     "evalue": "503 POST https://storage.googleapis.com/upload/storage/v1/b/weather_aurorabc/o?uploadType=multipart: Service Unavailable: ('Request failed with status code', 503, 'Expected one of', <HTTPStatus.OK: 200>)",
     "output_type": "error",
     "traceback": [
      "\u001b[0;31m---------------------------------------------------------------------------\u001b[0m",
      "\u001b[0;31mInvalidResponse\u001b[0m                           Traceback (most recent call last)",
      "File \u001b[0;32m/Library/Frameworks/Python.framework/Versions/3.11/lib/python3.11/site-packages/google/cloud/storage/blob.py:2539\u001b[0m, in \u001b[0;36mBlob.upload_from_file\u001b[0;34m(self, file_obj, rewind, size, content_type, num_retries, client, predefined_acl, if_generation_match, if_generation_not_match, if_metageneration_match, if_metageneration_not_match, timeout, checksum, retry)\u001b[0m\n\u001b[1;32m   2538\u001b[0m \u001b[38;5;28;01mtry\u001b[39;00m:\n\u001b[0;32m-> 2539\u001b[0m     created_json \u001b[38;5;241m=\u001b[39m \u001b[38;5;28;43mself\u001b[39;49m\u001b[38;5;241;43m.\u001b[39;49m\u001b[43m_do_upload\u001b[49m\u001b[43m(\u001b[49m\n\u001b[1;32m   2540\u001b[0m \u001b[43m        \u001b[49m\u001b[43mclient\u001b[49m\u001b[43m,\u001b[49m\n\u001b[1;32m   2541\u001b[0m \u001b[43m        \u001b[49m\u001b[43mfile_obj\u001b[49m\u001b[43m,\u001b[49m\n\u001b[1;32m   2542\u001b[0m \u001b[43m        \u001b[49m\u001b[43mcontent_type\u001b[49m\u001b[43m,\u001b[49m\n\u001b[1;32m   2543\u001b[0m \u001b[43m        \u001b[49m\u001b[43msize\u001b[49m\u001b[43m,\u001b[49m\n\u001b[1;32m   2544\u001b[0m \u001b[43m        \u001b[49m\u001b[43mnum_retries\u001b[49m\u001b[43m,\u001b[49m\n\u001b[1;32m   2545\u001b[0m \u001b[43m        \u001b[49m\u001b[43mpredefined_acl\u001b[49m\u001b[43m,\u001b[49m\n\u001b[1;32m   2546\u001b[0m \u001b[43m        \u001b[49m\u001b[43mif_generation_match\u001b[49m\u001b[43m,\u001b[49m\n\u001b[1;32m   2547\u001b[0m \u001b[43m        \u001b[49m\u001b[43mif_generation_not_match\u001b[49m\u001b[43m,\u001b[49m\n\u001b[1;32m   2548\u001b[0m \u001b[43m        \u001b[49m\u001b[43mif_metageneration_match\u001b[49m\u001b[43m,\u001b[49m\n\u001b[1;32m   2549\u001b[0m \u001b[43m        \u001b[49m\u001b[43mif_metageneration_not_match\u001b[49m\u001b[43m,\u001b[49m\n\u001b[1;32m   2550\u001b[0m \u001b[43m        \u001b[49m\u001b[43mtimeout\u001b[49m\u001b[38;5;241;43m=\u001b[39;49m\u001b[43mtimeout\u001b[49m\u001b[43m,\u001b[49m\n\u001b[1;32m   2551\u001b[0m \u001b[43m        \u001b[49m\u001b[43mchecksum\u001b[49m\u001b[38;5;241;43m=\u001b[39;49m\u001b[43mchecksum\u001b[49m\u001b[43m,\u001b[49m\n\u001b[1;32m   2552\u001b[0m \u001b[43m        \u001b[49m\u001b[43mretry\u001b[49m\u001b[38;5;241;43m=\u001b[39;49m\u001b[43mretry\u001b[49m\u001b[43m,\u001b[49m\n\u001b[1;32m   2553\u001b[0m \u001b[43m    \u001b[49m\u001b[43m)\u001b[49m\n\u001b[1;32m   2554\u001b[0m     \u001b[38;5;28mself\u001b[39m\u001b[38;5;241m.\u001b[39m_set_properties(created_json)\n",
      "File \u001b[0;32m/Library/Frameworks/Python.framework/Versions/3.11/lib/python3.11/site-packages/google/cloud/storage/blob.py:2354\u001b[0m, in \u001b[0;36mBlob._do_upload\u001b[0;34m(self, client, stream, content_type, size, num_retries, predefined_acl, if_generation_match, if_generation_not_match, if_metageneration_match, if_metageneration_not_match, timeout, checksum, retry)\u001b[0m\n\u001b[1;32m   2353\u001b[0m \u001b[38;5;28;01mif\u001b[39;00m size \u001b[38;5;129;01mis\u001b[39;00m \u001b[38;5;129;01mnot\u001b[39;00m \u001b[38;5;28;01mNone\u001b[39;00m \u001b[38;5;129;01mand\u001b[39;00m size \u001b[38;5;241m<\u001b[39m\u001b[38;5;241m=\u001b[39m _MAX_MULTIPART_SIZE:\n\u001b[0;32m-> 2354\u001b[0m     response \u001b[38;5;241m=\u001b[39m \u001b[38;5;28;43mself\u001b[39;49m\u001b[38;5;241;43m.\u001b[39;49m\u001b[43m_do_multipart_upload\u001b[49m\u001b[43m(\u001b[49m\n\u001b[1;32m   2355\u001b[0m \u001b[43m        \u001b[49m\u001b[43mclient\u001b[49m\u001b[43m,\u001b[49m\n\u001b[1;32m   2356\u001b[0m \u001b[43m        \u001b[49m\u001b[43mstream\u001b[49m\u001b[43m,\u001b[49m\n\u001b[1;32m   2357\u001b[0m \u001b[43m        \u001b[49m\u001b[43mcontent_type\u001b[49m\u001b[43m,\u001b[49m\n\u001b[1;32m   2358\u001b[0m \u001b[43m        \u001b[49m\u001b[43msize\u001b[49m\u001b[43m,\u001b[49m\n\u001b[1;32m   2359\u001b[0m \u001b[43m        \u001b[49m\u001b[43mnum_retries\u001b[49m\u001b[43m,\u001b[49m\n\u001b[1;32m   2360\u001b[0m \u001b[43m        \u001b[49m\u001b[43mpredefined_acl\u001b[49m\u001b[43m,\u001b[49m\n\u001b[1;32m   2361\u001b[0m \u001b[43m        \u001b[49m\u001b[43mif_generation_match\u001b[49m\u001b[43m,\u001b[49m\n\u001b[1;32m   2362\u001b[0m \u001b[43m        \u001b[49m\u001b[43mif_generation_not_match\u001b[49m\u001b[43m,\u001b[49m\n\u001b[1;32m   2363\u001b[0m \u001b[43m        \u001b[49m\u001b[43mif_metageneration_match\u001b[49m\u001b[43m,\u001b[49m\n\u001b[1;32m   2364\u001b[0m \u001b[43m        \u001b[49m\u001b[43mif_metageneration_not_match\u001b[49m\u001b[43m,\u001b[49m\n\u001b[1;32m   2365\u001b[0m \u001b[43m        \u001b[49m\u001b[43mtimeout\u001b[49m\u001b[38;5;241;43m=\u001b[39;49m\u001b[43mtimeout\u001b[49m\u001b[43m,\u001b[49m\n\u001b[1;32m   2366\u001b[0m \u001b[43m        \u001b[49m\u001b[43mchecksum\u001b[49m\u001b[38;5;241;43m=\u001b[39;49m\u001b[43mchecksum\u001b[49m\u001b[43m,\u001b[49m\n\u001b[1;32m   2367\u001b[0m \u001b[43m        \u001b[49m\u001b[43mretry\u001b[49m\u001b[38;5;241;43m=\u001b[39;49m\u001b[43mretry\u001b[49m\u001b[43m,\u001b[49m\n\u001b[1;32m   2368\u001b[0m \u001b[43m    \u001b[49m\u001b[43m)\u001b[49m\n\u001b[1;32m   2369\u001b[0m \u001b[38;5;28;01melse\u001b[39;00m:\n",
      "File \u001b[0;32m/Library/Frameworks/Python.framework/Versions/3.11/lib/python3.11/site-packages/google/cloud/storage/blob.py:1889\u001b[0m, in \u001b[0;36mBlob._do_multipart_upload\u001b[0;34m(self, client, stream, content_type, size, num_retries, predefined_acl, if_generation_match, if_generation_not_match, if_metageneration_match, if_metageneration_not_match, timeout, checksum, retry)\u001b[0m\n\u001b[1;32m   1885\u001b[0m upload\u001b[38;5;241m.\u001b[39m_retry_strategy \u001b[38;5;241m=\u001b[39m _api_core_retry_to_resumable_media_retry(\n\u001b[1;32m   1886\u001b[0m     retry, num_retries\n\u001b[1;32m   1887\u001b[0m )\n\u001b[0;32m-> 1889\u001b[0m response \u001b[38;5;241m=\u001b[39m \u001b[43mupload\u001b[49m\u001b[38;5;241;43m.\u001b[39;49m\u001b[43mtransmit\u001b[49m\u001b[43m(\u001b[49m\n\u001b[1;32m   1890\u001b[0m \u001b[43m    \u001b[49m\u001b[43mtransport\u001b[49m\u001b[43m,\u001b[49m\u001b[43m \u001b[49m\u001b[43mdata\u001b[49m\u001b[43m,\u001b[49m\u001b[43m \u001b[49m\u001b[43mobject_metadata\u001b[49m\u001b[43m,\u001b[49m\u001b[43m \u001b[49m\u001b[43mcontent_type\u001b[49m\u001b[43m,\u001b[49m\u001b[43m \u001b[49m\u001b[43mtimeout\u001b[49m\u001b[38;5;241;43m=\u001b[39;49m\u001b[43mtimeout\u001b[49m\n\u001b[1;32m   1891\u001b[0m \u001b[43m\u001b[49m\u001b[43m)\u001b[49m\n\u001b[1;32m   1893\u001b[0m \u001b[38;5;28;01mreturn\u001b[39;00m response\n",
      "File \u001b[0;32m/Library/Frameworks/Python.framework/Versions/3.11/lib/python3.11/site-packages/google/resumable_media/requests/upload.py:153\u001b[0m, in \u001b[0;36mMultipartUpload.transmit\u001b[0;34m(self, transport, data, metadata, content_type, timeout)\u001b[0m\n\u001b[1;32m    151\u001b[0m     \u001b[38;5;28;01mreturn\u001b[39;00m result\n\u001b[0;32m--> 153\u001b[0m \u001b[38;5;28;01mreturn\u001b[39;00m \u001b[43m_request_helpers\u001b[49m\u001b[38;5;241;43m.\u001b[39;49m\u001b[43mwait_and_retry\u001b[49m\u001b[43m(\u001b[49m\n\u001b[1;32m    154\u001b[0m \u001b[43m    \u001b[49m\u001b[43mretriable_request\u001b[49m\u001b[43m,\u001b[49m\u001b[43m \u001b[49m\u001b[38;5;28;43mself\u001b[39;49m\u001b[38;5;241;43m.\u001b[39;49m\u001b[43m_get_status_code\u001b[49m\u001b[43m,\u001b[49m\u001b[43m \u001b[49m\u001b[38;5;28;43mself\u001b[39;49m\u001b[38;5;241;43m.\u001b[39;49m\u001b[43m_retry_strategy\u001b[49m\n\u001b[1;32m    155\u001b[0m \u001b[43m\u001b[49m\u001b[43m)\u001b[49m\n",
      "File \u001b[0;32m/Library/Frameworks/Python.framework/Versions/3.11/lib/python3.11/site-packages/google/resumable_media/requests/_request_helpers.py:171\u001b[0m, in \u001b[0;36mwait_and_retry\u001b[0;34m(func, get_status_code, retry_strategy)\u001b[0m\n\u001b[1;32m    170\u001b[0m \u001b[38;5;28;01mif\u001b[39;00m \u001b[38;5;129;01mnot\u001b[39;00m retry_strategy\u001b[38;5;241m.\u001b[39mretry_allowed(total_sleep, num_retries):\n\u001b[0;32m--> 171\u001b[0m     \u001b[38;5;28;01mraise\u001b[39;00m error\n\u001b[1;32m    173\u001b[0m time\u001b[38;5;241m.\u001b[39msleep(wait_time)\n",
      "File \u001b[0;32m/Library/Frameworks/Python.framework/Versions/3.11/lib/python3.11/site-packages/google/resumable_media/requests/_request_helpers.py:148\u001b[0m, in \u001b[0;36mwait_and_retry\u001b[0;34m(func, get_status_code, retry_strategy)\u001b[0m\n\u001b[1;32m    147\u001b[0m \u001b[38;5;28;01mtry\u001b[39;00m:\n\u001b[0;32m--> 148\u001b[0m     response \u001b[38;5;241m=\u001b[39m \u001b[43mfunc\u001b[49m\u001b[43m(\u001b[49m\u001b[43m)\u001b[49m\n\u001b[1;32m    149\u001b[0m \u001b[38;5;28;01mexcept\u001b[39;00m _CONNECTION_ERROR_CLASSES \u001b[38;5;28;01mas\u001b[39;00m e:\n",
      "File \u001b[0;32m/Library/Frameworks/Python.framework/Versions/3.11/lib/python3.11/site-packages/google/resumable_media/requests/upload.py:149\u001b[0m, in \u001b[0;36mMultipartUpload.transmit.<locals>.retriable_request\u001b[0;34m()\u001b[0m\n\u001b[1;32m    145\u001b[0m result \u001b[38;5;241m=\u001b[39m transport\u001b[38;5;241m.\u001b[39mrequest(\n\u001b[1;32m    146\u001b[0m     method, url, data\u001b[38;5;241m=\u001b[39mpayload, headers\u001b[38;5;241m=\u001b[39mheaders, timeout\u001b[38;5;241m=\u001b[39mtimeout\n\u001b[1;32m    147\u001b[0m )\n\u001b[0;32m--> 149\u001b[0m \u001b[38;5;28;43mself\u001b[39;49m\u001b[38;5;241;43m.\u001b[39;49m\u001b[43m_process_response\u001b[49m\u001b[43m(\u001b[49m\u001b[43mresult\u001b[49m\u001b[43m)\u001b[49m\n\u001b[1;32m    151\u001b[0m \u001b[38;5;28;01mreturn\u001b[39;00m result\n",
      "File \u001b[0;32m/Library/Frameworks/Python.framework/Versions/3.11/lib/python3.11/site-packages/google/resumable_media/_upload.py:114\u001b[0m, in \u001b[0;36mUploadBase._process_response\u001b[0;34m(self, response)\u001b[0m\n\u001b[1;32m    113\u001b[0m \u001b[38;5;28mself\u001b[39m\u001b[38;5;241m.\u001b[39m_finished \u001b[38;5;241m=\u001b[39m \u001b[38;5;28;01mTrue\u001b[39;00m\n\u001b[0;32m--> 114\u001b[0m \u001b[43m_helpers\u001b[49m\u001b[38;5;241;43m.\u001b[39;49m\u001b[43mrequire_status_code\u001b[49m\u001b[43m(\u001b[49m\u001b[43mresponse\u001b[49m\u001b[43m,\u001b[49m\u001b[43m \u001b[49m\u001b[43m(\u001b[49m\u001b[43mhttp\u001b[49m\u001b[38;5;241;43m.\u001b[39;49m\u001b[43mclient\u001b[49m\u001b[38;5;241;43m.\u001b[39;49m\u001b[43mOK\u001b[49m\u001b[43m,\u001b[49m\u001b[43m)\u001b[49m\u001b[43m,\u001b[49m\u001b[43m \u001b[49m\u001b[38;5;28;43mself\u001b[39;49m\u001b[38;5;241;43m.\u001b[39;49m\u001b[43m_get_status_code\u001b[49m\u001b[43m)\u001b[49m\n",
      "File \u001b[0;32m/Library/Frameworks/Python.framework/Versions/3.11/lib/python3.11/site-packages/google/resumable_media/_helpers.py:108\u001b[0m, in \u001b[0;36mrequire_status_code\u001b[0;34m(response, status_codes, get_status_code, callback)\u001b[0m\n\u001b[1;32m    107\u001b[0m         callback()\n\u001b[0;32m--> 108\u001b[0m     \u001b[38;5;28;01mraise\u001b[39;00m common\u001b[38;5;241m.\u001b[39mInvalidResponse(\n\u001b[1;32m    109\u001b[0m         response,\n\u001b[1;32m    110\u001b[0m         \u001b[38;5;124m\"\u001b[39m\u001b[38;5;124mRequest failed with status code\u001b[39m\u001b[38;5;124m\"\u001b[39m,\n\u001b[1;32m    111\u001b[0m         status_code,\n\u001b[1;32m    112\u001b[0m         \u001b[38;5;124m\"\u001b[39m\u001b[38;5;124mExpected one of\u001b[39m\u001b[38;5;124m\"\u001b[39m,\n\u001b[1;32m    113\u001b[0m         \u001b[38;5;241m*\u001b[39mstatus_codes\n\u001b[1;32m    114\u001b[0m     )\n\u001b[1;32m    115\u001b[0m \u001b[38;5;28;01mreturn\u001b[39;00m status_code\n",
      "\u001b[0;31mInvalidResponse\u001b[0m: ('Request failed with status code', 503, 'Expected one of', <HTTPStatus.OK: 200>)",
      "\nDuring handling of the above exception, another exception occurred:\n",
      "\u001b[0;31mServiceUnavailable\u001b[0m                        Traceback (most recent call last)",
      "Cell \u001b[0;32mIn[233], line 1\u001b[0m\n\u001b[0;32m----> 1\u001b[0m \u001b[43mmain\u001b[49m\u001b[43m(\u001b[49m\u001b[43m)\u001b[49m\n",
      "Cell \u001b[0;32mIn[232], line 55\u001b[0m, in \u001b[0;36mmain\u001b[0;34m()\u001b[0m\n\u001b[1;32m     52\u001b[0m \u001b[38;5;28;01mfor\u001b[39;00m location \u001b[38;5;129;01min\u001b[39;00m locations:\n\u001b[1;32m     54\u001b[0m     \u001b[38;5;28mprint\u001b[39m(\u001b[38;5;124m\"\u001b[39m\u001b[38;5;124mPlotting Wind: \u001b[39m\u001b[38;5;132;01m{}\u001b[39;00m\u001b[38;5;124m\"\u001b[39m\u001b[38;5;241m.\u001b[39mformat(location[\u001b[38;5;124m'\u001b[39m\u001b[38;5;124mname\u001b[39m\u001b[38;5;124m'\u001b[39m]))\n\u001b[0;32m---> 55\u001b[0m     \u001b[43mplot_wind\u001b[49m\u001b[43m(\u001b[49m\u001b[43mstorage_client\u001b[49m\u001b[43m,\u001b[49m\u001b[43m \u001b[49m\u001b[43mlocation\u001b[49m\u001b[43m,\u001b[49m\u001b[43m \u001b[49m\u001b[43m[\u001b[49m\u001b[43mdate\u001b[49m\u001b[43m]\u001b[49m\u001b[43m,\u001b[49m\u001b[43m \u001b[49m\u001b[43mwind_plot_range\u001b[49m\u001b[43m)\u001b[49m\n\u001b[1;32m     57\u001b[0m     \u001b[38;5;28mprint\u001b[39m(\u001b[38;5;124m\"\u001b[39m\u001b[38;5;124mPlotting Wind Loading: \u001b[39m\u001b[38;5;132;01m{}\u001b[39;00m\u001b[38;5;124m\"\u001b[39m\u001b[38;5;241m.\u001b[39mformat(location[\u001b[38;5;124m'\u001b[39m\u001b[38;5;124mname\u001b[39m\u001b[38;5;124m'\u001b[39m]))\n\u001b[1;32m     58\u001b[0m     plot_wind_loading(storage_client, location, [date], wind_plot_range)\n",
      "Cell \u001b[0;32mIn[230], line 86\u001b[0m, in \u001b[0;36mplot_wind\u001b[0;34m(storage_client, location, dates, plot_range)\u001b[0m\n\u001b[1;32m     84\u001b[0m blob_name \u001b[38;5;241m=\u001b[39m \u001b[38;5;124m'\u001b[39m\u001b[38;5;124mgraphs/\u001b[39m\u001b[38;5;132;01m{}\u001b[39;00m\u001b[38;5;124m/\u001b[39m\u001b[38;5;132;01m{}\u001b[39;00m\u001b[38;5;124m_\u001b[39m\u001b[38;5;132;01m{}\u001b[39;00m\u001b[38;5;124md_\u001b[39m\u001b[38;5;132;01m{}\u001b[39;00m\u001b[38;5;124m.webp\u001b[39m\u001b[38;5;124m'\u001b[39m\u001b[38;5;241m.\u001b[39mformat(d, save_name, r, d)\n\u001b[1;32m     85\u001b[0m blob \u001b[38;5;241m=\u001b[39m bucket\u001b[38;5;241m.\u001b[39mblob(blob_name)\n\u001b[0;32m---> 86\u001b[0m \u001b[43mblob\u001b[49m\u001b[38;5;241;43m.\u001b[39;49m\u001b[43mupload_from_string\u001b[49m\u001b[43m(\u001b[49m\u001b[43mbuff\u001b[49m\u001b[38;5;241;43m.\u001b[39;49m\u001b[43mgetvalue\u001b[49m\u001b[43m(\u001b[49m\u001b[43m)\u001b[49m\u001b[43m,\u001b[49m\u001b[43m \u001b[49m\u001b[43mcontent_type\u001b[49m\u001b[38;5;241;43m=\u001b[39;49m\u001b[38;5;124;43m'\u001b[39;49m\u001b[38;5;124;43mimage/png\u001b[39;49m\u001b[38;5;124;43m'\u001b[39;49m\u001b[43m)\u001b[49m\n\u001b[1;32m     87\u001b[0m plt\u001b[38;5;241m.\u001b[39mclose()\n\u001b[1;32m     88\u001b[0m \u001b[38;5;28;01mdel\u001b[39;00m buff\n",
      "File \u001b[0;32m/Library/Frameworks/Python.framework/Versions/3.11/lib/python3.11/site-packages/google/cloud/storage/blob.py:2814\u001b[0m, in \u001b[0;36mBlob.upload_from_string\u001b[0;34m(self, data, content_type, num_retries, client, predefined_acl, if_generation_match, if_generation_not_match, if_metageneration_match, if_metageneration_not_match, timeout, checksum, retry)\u001b[0m\n\u001b[1;32m   2812\u001b[0m data \u001b[38;5;241m=\u001b[39m _to_bytes(data, encoding\u001b[38;5;241m=\u001b[39m\u001b[38;5;124m\"\u001b[39m\u001b[38;5;124mutf-8\u001b[39m\u001b[38;5;124m\"\u001b[39m)\n\u001b[1;32m   2813\u001b[0m string_buffer \u001b[38;5;241m=\u001b[39m BytesIO(data)\n\u001b[0;32m-> 2814\u001b[0m \u001b[38;5;28;43mself\u001b[39;49m\u001b[38;5;241;43m.\u001b[39;49m\u001b[43mupload_from_file\u001b[49m\u001b[43m(\u001b[49m\n\u001b[1;32m   2815\u001b[0m \u001b[43m    \u001b[49m\u001b[43mfile_obj\u001b[49m\u001b[38;5;241;43m=\u001b[39;49m\u001b[43mstring_buffer\u001b[49m\u001b[43m,\u001b[49m\n\u001b[1;32m   2816\u001b[0m \u001b[43m    \u001b[49m\u001b[43msize\u001b[49m\u001b[38;5;241;43m=\u001b[39;49m\u001b[38;5;28;43mlen\u001b[39;49m\u001b[43m(\u001b[49m\u001b[43mdata\u001b[49m\u001b[43m)\u001b[49m\u001b[43m,\u001b[49m\n\u001b[1;32m   2817\u001b[0m \u001b[43m    \u001b[49m\u001b[43mcontent_type\u001b[49m\u001b[38;5;241;43m=\u001b[39;49m\u001b[43mcontent_type\u001b[49m\u001b[43m,\u001b[49m\n\u001b[1;32m   2818\u001b[0m \u001b[43m    \u001b[49m\u001b[43mnum_retries\u001b[49m\u001b[38;5;241;43m=\u001b[39;49m\u001b[43mnum_retries\u001b[49m\u001b[43m,\u001b[49m\n\u001b[1;32m   2819\u001b[0m \u001b[43m    \u001b[49m\u001b[43mclient\u001b[49m\u001b[38;5;241;43m=\u001b[39;49m\u001b[43mclient\u001b[49m\u001b[43m,\u001b[49m\n\u001b[1;32m   2820\u001b[0m \u001b[43m    \u001b[49m\u001b[43mpredefined_acl\u001b[49m\u001b[38;5;241;43m=\u001b[39;49m\u001b[43mpredefined_acl\u001b[49m\u001b[43m,\u001b[49m\n\u001b[1;32m   2821\u001b[0m \u001b[43m    \u001b[49m\u001b[43mif_generation_match\u001b[49m\u001b[38;5;241;43m=\u001b[39;49m\u001b[43mif_generation_match\u001b[49m\u001b[43m,\u001b[49m\n\u001b[1;32m   2822\u001b[0m \u001b[43m    \u001b[49m\u001b[43mif_generation_not_match\u001b[49m\u001b[38;5;241;43m=\u001b[39;49m\u001b[43mif_generation_not_match\u001b[49m\u001b[43m,\u001b[49m\n\u001b[1;32m   2823\u001b[0m \u001b[43m    \u001b[49m\u001b[43mif_metageneration_match\u001b[49m\u001b[38;5;241;43m=\u001b[39;49m\u001b[43mif_metageneration_match\u001b[49m\u001b[43m,\u001b[49m\n\u001b[1;32m   2824\u001b[0m \u001b[43m    \u001b[49m\u001b[43mif_metageneration_not_match\u001b[49m\u001b[38;5;241;43m=\u001b[39;49m\u001b[43mif_metageneration_not_match\u001b[49m\u001b[43m,\u001b[49m\n\u001b[1;32m   2825\u001b[0m \u001b[43m    \u001b[49m\u001b[43mtimeout\u001b[49m\u001b[38;5;241;43m=\u001b[39;49m\u001b[43mtimeout\u001b[49m\u001b[43m,\u001b[49m\n\u001b[1;32m   2826\u001b[0m \u001b[43m    \u001b[49m\u001b[43mchecksum\u001b[49m\u001b[38;5;241;43m=\u001b[39;49m\u001b[43mchecksum\u001b[49m\u001b[43m,\u001b[49m\n\u001b[1;32m   2827\u001b[0m \u001b[43m    \u001b[49m\u001b[43mretry\u001b[49m\u001b[38;5;241;43m=\u001b[39;49m\u001b[43mretry\u001b[49m\u001b[43m,\u001b[49m\n\u001b[1;32m   2828\u001b[0m \u001b[43m\u001b[49m\u001b[43m)\u001b[49m\n",
      "File \u001b[0;32m/Library/Frameworks/Python.framework/Versions/3.11/lib/python3.11/site-packages/google/cloud/storage/blob.py:2556\u001b[0m, in \u001b[0;36mBlob.upload_from_file\u001b[0;34m(self, file_obj, rewind, size, content_type, num_retries, client, predefined_acl, if_generation_match, if_generation_not_match, if_metageneration_match, if_metageneration_not_match, timeout, checksum, retry)\u001b[0m\n\u001b[1;32m   2554\u001b[0m     \u001b[38;5;28mself\u001b[39m\u001b[38;5;241m.\u001b[39m_set_properties(created_json)\n\u001b[1;32m   2555\u001b[0m \u001b[38;5;28;01mexcept\u001b[39;00m resumable_media\u001b[38;5;241m.\u001b[39mInvalidResponse \u001b[38;5;28;01mas\u001b[39;00m exc:\n\u001b[0;32m-> 2556\u001b[0m     \u001b[43m_raise_from_invalid_response\u001b[49m\u001b[43m(\u001b[49m\u001b[43mexc\u001b[49m\u001b[43m)\u001b[49m\n",
      "File \u001b[0;32m/Library/Frameworks/Python.framework/Versions/3.11/lib/python3.11/site-packages/google/cloud/storage/blob.py:4368\u001b[0m, in \u001b[0;36m_raise_from_invalid_response\u001b[0;34m(error)\u001b[0m\n\u001b[1;32m   4364\u001b[0m     error_message \u001b[38;5;241m=\u001b[39m \u001b[38;5;28mstr\u001b[39m(error)\n\u001b[1;32m   4366\u001b[0m message \u001b[38;5;241m=\u001b[39m \u001b[38;5;124mf\u001b[39m\u001b[38;5;124m\"\u001b[39m\u001b[38;5;132;01m{\u001b[39;00mresponse\u001b[38;5;241m.\u001b[39mrequest\u001b[38;5;241m.\u001b[39mmethod\u001b[38;5;132;01m}\u001b[39;00m\u001b[38;5;124m \u001b[39m\u001b[38;5;132;01m{\u001b[39;00mresponse\u001b[38;5;241m.\u001b[39mrequest\u001b[38;5;241m.\u001b[39murl\u001b[38;5;132;01m}\u001b[39;00m\u001b[38;5;124m: \u001b[39m\u001b[38;5;132;01m{\u001b[39;00merror_message\u001b[38;5;132;01m}\u001b[39;00m\u001b[38;5;124m\"\u001b[39m\n\u001b[0;32m-> 4368\u001b[0m \u001b[38;5;28;01mraise\u001b[39;00m exceptions\u001b[38;5;241m.\u001b[39mfrom_http_status(response\u001b[38;5;241m.\u001b[39mstatus_code, message, response\u001b[38;5;241m=\u001b[39mresponse)\n",
      "\u001b[0;31mServiceUnavailable\u001b[0m: 503 POST https://storage.googleapis.com/upload/storage/v1/b/weather_aurorabc/o?uploadType=multipart: Service Unavailable: ('Request failed with status code', 503, 'Expected one of', <HTTPStatus.OK: 200>)"
     ]
    },
    {
     "data": {
      "image/png": "[encoded data removed]",
      "text/plain": [
       "<Figure size 640x640 with 1 Axes>"
      ]
     },
     "metadata": {},
     "output_type": "display_data"
    }
   ],
   "source": [
    "main()"
   ]
  },
  {
   "cell_type": "code",
   "execution_count": null,
   "id": "81fab5e5",
   "metadata": {},
   "outputs": [],
   "source": []
  },
  {
   "cell_type": "code",
   "execution_count": null,
   "id": "60f4d921",
   "metadata": {},
   "outputs": [],
   "source": []
  },
  {
   "cell_type": "code",
   "execution_count": null,
   "id": "cf921d29",
   "metadata": {},
   "outputs": [],
   "source": []
  },
  {
   "cell_type": "code",
   "execution_count": null,
   "id": "7ab54b68",
   "metadata": {},
   "outputs": [],
   "source": []
  },
  {
   "cell_type": "code",
   "execution_count": null,
   "id": "7e0d5cd8",
   "metadata": {},
   "outputs": [],
   "source": []
  }
 ],
 "metadata": {
  "kernelspec": {
   "display_name": "Python 3 (ipykernel)",
   "language": "python",
   "name": "python3"
  },
  "language_info": {
   "codemirror_mode": {
    "name": "ipython",
    "version": 3
   },
   "file_extension": ".py",
   "mimetype": "text/x-python",
   "name": "python",
   "nbconvert_exporter": "python",
   "pygments_lexer": "ipython3",
   "version": "3.11.2"
  }
 },
 "nbformat": 4,
 "nbformat_minor": 5
}
