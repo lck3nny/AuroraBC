{
 "cells": [
  {
   "cell_type": "markdown",
   "id": "d43d3454",
   "metadata": {},
   "source": [
    "# Plotter\n",
    "---\n",
    "- Read weather.csv\n",
    "- Loop through each station\n",
    "- Plot temperature\n",
    "- 3hr - 12hr - 24hr - 48hr - 5 day - 10 day - 30 day - 90 day\n",
    "---\n",
    "- Plot wind\n",
    "- 3hr - 12hr - 24hr - 48hr - 5 day - 10 day - 30 day - 90 day\n",
    "---"
   ]
  },
  {
   "cell_type": "code",
   "execution_count": 4,
   "id": "3042b029",
   "metadata": {},
   "outputs": [],
   "source": [
    "import os\n",
    "import pandas as pd"
   ]
  },
  {
   "cell_type": "code",
   "execution_count": 7,
   "id": "b8db859b",
   "metadata": {},
   "outputs": [
    {
     "name": "stdout",
     "output_type": "stream",
     "text": [
      "         DATE            NAME   PRES  HGHT  TEMP  DWPT  RELH  MIXR  DRCT  \\\n",
      "0  2021-12-16  Quillayute 850  850.0  1345  -3.5  -3.6    99  3.46   170   \n",
      "1  2021-12-16  Quillayute 700  700.0  2853 -12.9 -13.9    92  1.87   195   \n",
      "2  2021-12-16      Vernon 850  850.0  1378  -8.1 -10.9    80  1.97   200   \n",
      "3  2021-12-16      Vernon 700  700.0  2862 -16.9 -20.5    74  1.08   240   \n",
      "4  2021-12-16  Port Hardy 850  850.0  1290  -4.3  -7.3    80  2.61   150   \n",
      "\n",
      "   SKNT   THTA   THTE   THTV  \n",
      "0    41  282.5  292.4  283.1  \n",
      "1    36  288.2  293.9  288.5  \n",
      "2    10  277.6  283.4  278.0  \n",
      "3    18  283.7  287.1  283.9  \n",
      "4    27  281.6  289.2  282.1  \n"
     ]
    }
   ],
   "source": [
    "data_path = './data/weather.csv'\n",
    "\n",
    "# If data exists, load it\n",
    "# ~~~~~~~~~~~~~~~~~~~~~~~\n",
    "if os.path.exists(data_path):\n",
    "    weather_data = pd.read_csv(data_path)\n",
    "    print(weather_data.head())\n",
    "else:\n",
    "    print(\"No historical data exists\")"
   ]
  },
  {
   "cell_type": "code",
   "execution_count": 9,
   "id": "0779fbcd",
   "metadata": {},
   "outputs": [
    {
     "data": {
      "text/html": [
       "<div>\n",
       "<style scoped>\n",
       "    .dataframe tbody tr th:only-of-type {\n",
       "        vertical-align: middle;\n",
       "    }\n",
       "\n",
       "    .dataframe tbody tr th {\n",
       "        vertical-align: top;\n",
       "    }\n",
       "\n",
       "    .dataframe thead th {\n",
       "        text-align: right;\n",
       "    }\n",
       "</style>\n",
       "<table border=\"1\" class=\"dataframe\">\n",
       "  <thead>\n",
       "    <tr style=\"text-align: right;\">\n",
       "      <th></th>\n",
       "      <th>DATE</th>\n",
       "      <th>NAME</th>\n",
       "      <th>PRES</th>\n",
       "      <th>HGHT</th>\n",
       "      <th>TEMP</th>\n",
       "      <th>DWPT</th>\n",
       "      <th>RELH</th>\n",
       "      <th>MIXR</th>\n",
       "      <th>DRCT</th>\n",
       "      <th>SKNT</th>\n",
       "      <th>THTA</th>\n",
       "      <th>THTE</th>\n",
       "      <th>THTV</th>\n",
       "    </tr>\n",
       "  </thead>\n",
       "  <tbody>\n",
       "    <tr>\n",
       "      <th>0</th>\n",
       "      <td>2021-12-16</td>\n",
       "      <td>Quillayute 850</td>\n",
       "      <td>850.0</td>\n",
       "      <td>1345</td>\n",
       "      <td>-3.5</td>\n",
       "      <td>-3.6</td>\n",
       "      <td>99</td>\n",
       "      <td>3.46</td>\n",
       "      <td>170</td>\n",
       "      <td>41</td>\n",
       "      <td>282.5</td>\n",
       "      <td>292.4</td>\n",
       "      <td>283.1</td>\n",
       "    </tr>\n",
       "    <tr>\n",
       "      <th>1</th>\n",
       "      <td>2021-12-16</td>\n",
       "      <td>Quillayute 700</td>\n",
       "      <td>700.0</td>\n",
       "      <td>2853</td>\n",
       "      <td>-12.9</td>\n",
       "      <td>-13.9</td>\n",
       "      <td>92</td>\n",
       "      <td>1.87</td>\n",
       "      <td>195</td>\n",
       "      <td>36</td>\n",
       "      <td>288.2</td>\n",
       "      <td>293.9</td>\n",
       "      <td>288.5</td>\n",
       "    </tr>\n",
       "    <tr>\n",
       "      <th>2</th>\n",
       "      <td>2021-12-16</td>\n",
       "      <td>Vernon 850</td>\n",
       "      <td>850.0</td>\n",
       "      <td>1378</td>\n",
       "      <td>-8.1</td>\n",
       "      <td>-10.9</td>\n",
       "      <td>80</td>\n",
       "      <td>1.97</td>\n",
       "      <td>200</td>\n",
       "      <td>10</td>\n",
       "      <td>277.6</td>\n",
       "      <td>283.4</td>\n",
       "      <td>278.0</td>\n",
       "    </tr>\n",
       "    <tr>\n",
       "      <th>3</th>\n",
       "      <td>2021-12-16</td>\n",
       "      <td>Vernon 700</td>\n",
       "      <td>700.0</td>\n",
       "      <td>2862</td>\n",
       "      <td>-16.9</td>\n",
       "      <td>-20.5</td>\n",
       "      <td>74</td>\n",
       "      <td>1.08</td>\n",
       "      <td>240</td>\n",
       "      <td>18</td>\n",
       "      <td>283.7</td>\n",
       "      <td>287.1</td>\n",
       "      <td>283.9</td>\n",
       "    </tr>\n",
       "    <tr>\n",
       "      <th>4</th>\n",
       "      <td>2021-12-16</td>\n",
       "      <td>Port Hardy 850</td>\n",
       "      <td>850.0</td>\n",
       "      <td>1290</td>\n",
       "      <td>-4.3</td>\n",
       "      <td>-7.3</td>\n",
       "      <td>80</td>\n",
       "      <td>2.61</td>\n",
       "      <td>150</td>\n",
       "      <td>27</td>\n",
       "      <td>281.6</td>\n",
       "      <td>289.2</td>\n",
       "      <td>282.1</td>\n",
       "    </tr>\n",
       "  </tbody>\n",
       "</table>\n",
       "</div>"
      ],
      "text/plain": [
       "         DATE            NAME   PRES  HGHT  TEMP  DWPT  RELH  MIXR  DRCT  \\\n",
       "0  2021-12-16  Quillayute 850  850.0  1345  -3.5  -3.6    99  3.46   170   \n",
       "1  2021-12-16  Quillayute 700  700.0  2853 -12.9 -13.9    92  1.87   195   \n",
       "2  2021-12-16      Vernon 850  850.0  1378  -8.1 -10.9    80  1.97   200   \n",
       "3  2021-12-16      Vernon 700  700.0  2862 -16.9 -20.5    74  1.08   240   \n",
       "4  2021-12-16  Port Hardy 850  850.0  1290  -4.3  -7.3    80  2.61   150   \n",
       "\n",
       "   SKNT   THTA   THTE   THTV  \n",
       "0    41  282.5  292.4  283.1  \n",
       "1    36  288.2  293.9  288.5  \n",
       "2    10  277.6  283.4  278.0  \n",
       "3    18  283.7  287.1  283.9  \n",
       "4    27  281.6  289.2  282.1  "
      ]
     },
     "execution_count": 9,
     "metadata": {},
     "output_type": "execute_result"
    }
   ],
   "source": [
    "weather_data.head()"
   ]
  },
  {
   "cell_type": "code",
   "execution_count": 12,
   "id": "193b7aab",
   "metadata": {},
   "outputs": [
    {
     "ename": "KeyError",
     "evalue": "\"None of ['STATION'] are in the columns\"",
     "output_type": "error",
     "traceback": [
      "\u001b[0;31m---------------------------------------------------------------------------\u001b[0m",
      "\u001b[0;31mKeyError\u001b[0m                                  Traceback (most recent call last)",
      "Cell \u001b[0;32mIn[12], line 1\u001b[0m\n\u001b[0;32m----> 1\u001b[0m \u001b[43mweather_data\u001b[49m\u001b[38;5;241;43m.\u001b[39;49m\u001b[43mset_index\u001b[49m\u001b[43m(\u001b[49m\u001b[43m[\u001b[49m\u001b[38;5;124;43m'\u001b[39;49m\u001b[38;5;124;43mDATE\u001b[39;49m\u001b[38;5;124;43m'\u001b[39;49m\u001b[43m,\u001b[49m\u001b[38;5;124;43m'\u001b[39;49m\u001b[38;5;124;43mSTATION\u001b[39;49m\u001b[38;5;124;43m'\u001b[39;49m\u001b[43m,\u001b[49m\u001b[38;5;124;43m'\u001b[39;49m\u001b[38;5;124;43mPRES\u001b[39;49m\u001b[38;5;124;43m'\u001b[39;49m\u001b[43m]\u001b[49m\u001b[43m)\u001b[49m\n",
      "File \u001b[0;32m/Library/Frameworks/Python.framework/Versions/3.11/lib/python3.11/site-packages/pandas/util/_decorators.py:331\u001b[0m, in \u001b[0;36mdeprecate_nonkeyword_arguments.<locals>.decorate.<locals>.wrapper\u001b[0;34m(*args, **kwargs)\u001b[0m\n\u001b[1;32m    325\u001b[0m \u001b[38;5;28;01mif\u001b[39;00m \u001b[38;5;28mlen\u001b[39m(args) \u001b[38;5;241m>\u001b[39m num_allow_args:\n\u001b[1;32m    326\u001b[0m     warnings\u001b[38;5;241m.\u001b[39mwarn(\n\u001b[1;32m    327\u001b[0m         msg\u001b[38;5;241m.\u001b[39mformat(arguments\u001b[38;5;241m=\u001b[39m_format_argument_list(allow_args)),\n\u001b[1;32m    328\u001b[0m         \u001b[38;5;167;01mFutureWarning\u001b[39;00m,\n\u001b[1;32m    329\u001b[0m         stacklevel\u001b[38;5;241m=\u001b[39mfind_stack_level(),\n\u001b[1;32m    330\u001b[0m     )\n\u001b[0;32m--> 331\u001b[0m \u001b[38;5;28;01mreturn\u001b[39;00m \u001b[43mfunc\u001b[49m\u001b[43m(\u001b[49m\u001b[38;5;241;43m*\u001b[39;49m\u001b[43margs\u001b[49m\u001b[43m,\u001b[49m\u001b[43m \u001b[49m\u001b[38;5;241;43m*\u001b[39;49m\u001b[38;5;241;43m*\u001b[39;49m\u001b[43mkwargs\u001b[49m\u001b[43m)\u001b[49m\n",
      "File \u001b[0;32m/Library/Frameworks/Python.framework/Versions/3.11/lib/python3.11/site-packages/pandas/core/frame.py:6009\u001b[0m, in \u001b[0;36mDataFrame.set_index\u001b[0;34m(self, keys, drop, append, inplace, verify_integrity)\u001b[0m\n\u001b[1;32m   6006\u001b[0m                 missing\u001b[38;5;241m.\u001b[39mappend(col)\n\u001b[1;32m   6008\u001b[0m \u001b[38;5;28;01mif\u001b[39;00m missing:\n\u001b[0;32m-> 6009\u001b[0m     \u001b[38;5;28;01mraise\u001b[39;00m \u001b[38;5;167;01mKeyError\u001b[39;00m(\u001b[38;5;124mf\u001b[39m\u001b[38;5;124m\"\u001b[39m\u001b[38;5;124mNone of \u001b[39m\u001b[38;5;132;01m{\u001b[39;00mmissing\u001b[38;5;132;01m}\u001b[39;00m\u001b[38;5;124m are in the columns\u001b[39m\u001b[38;5;124m\"\u001b[39m)\n\u001b[1;32m   6011\u001b[0m \u001b[38;5;28;01mif\u001b[39;00m inplace:\n\u001b[1;32m   6012\u001b[0m     frame \u001b[38;5;241m=\u001b[39m \u001b[38;5;28mself\u001b[39m\n",
      "\u001b[0;31mKeyError\u001b[0m: \"None of ['STATION'] are in the columns\""
     ]
    }
   ],
   "source": [
    "weather_data.set_index(['DATE','STATION','PRES'])"
   ]
  },
  {
   "cell_type": "code",
   "execution_count": null,
   "id": "c7e20f66",
   "metadata": {},
   "outputs": [],
   "source": []
  }
 ],
 "metadata": {
  "kernelspec": {
   "display_name": "Python 3 (ipykernel)",
   "language": "python",
   "name": "python3"
  },
  "language_info": {
   "codemirror_mode": {
    "name": "ipython",
    "version": 3
   },
   "file_extension": ".py",
   "mimetype": "text/x-python",
   "name": "python",
   "nbconvert_exporter": "python",
   "pygments_lexer": "ipython3",
   "version": "3.11.2"
  }
 },
 "nbformat": 4,
 "nbformat_minor": 5
}
